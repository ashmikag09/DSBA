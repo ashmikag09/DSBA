{
 "cells": [
  {
   "cell_type": "code",
   "execution_count": 3,
   "metadata": {},
   "outputs": [],
   "source": [
    "import numpy as np\n",
    "import pandas as pd\n",
    "import matplotlib.pyplot as plt\n",
    "%matplotlib inline \n",
    "import seaborn as sns\n",
    "import scipy.stats as stats\n",
    "from scipy.stats import ttest_1samp, ttest_ind"
   ]
  },
  {
   "cell_type": "markdown",
   "metadata": {},
   "source": [
    "## Problem 1:"
   ]
  },
  {
   "cell_type": "code",
   "execution_count": 2,
   "metadata": {},
   "outputs": [
    {
     "data": {
      "text/html": [
       "<div>\n",
       "<style scoped>\n",
       "    .dataframe tbody tr th:only-of-type {\n",
       "        vertical-align: middle;\n",
       "    }\n",
       "\n",
       "    .dataframe tbody tr th {\n",
       "        vertical-align: top;\n",
       "    }\n",
       "\n",
       "    .dataframe thead th {\n",
       "        text-align: right;\n",
       "    }\n",
       "</style>\n",
       "<table border=\"1\" class=\"dataframe\">\n",
       "  <thead>\n",
       "    <tr style=\"text-align: right;\">\n",
       "      <th></th>\n",
       "      <th>Channel</th>\n",
       "      <th>Region</th>\n",
       "      <th>Fresh</th>\n",
       "      <th>Milk</th>\n",
       "      <th>Grocery</th>\n",
       "      <th>Frozen</th>\n",
       "      <th>Detergents_Paper</th>\n",
       "      <th>Delicatessen</th>\n",
       "    </tr>\n",
       "    <tr>\n",
       "      <th>Buyer/Spender</th>\n",
       "      <th></th>\n",
       "      <th></th>\n",
       "      <th></th>\n",
       "      <th></th>\n",
       "      <th></th>\n",
       "      <th></th>\n",
       "      <th></th>\n",
       "      <th></th>\n",
       "    </tr>\n",
       "  </thead>\n",
       "  <tbody>\n",
       "    <tr>\n",
       "      <th>1</th>\n",
       "      <td>Retail</td>\n",
       "      <td>Other</td>\n",
       "      <td>12669</td>\n",
       "      <td>9656</td>\n",
       "      <td>7561</td>\n",
       "      <td>214</td>\n",
       "      <td>2674</td>\n",
       "      <td>1338</td>\n",
       "    </tr>\n",
       "    <tr>\n",
       "      <th>2</th>\n",
       "      <td>Retail</td>\n",
       "      <td>Other</td>\n",
       "      <td>7057</td>\n",
       "      <td>9810</td>\n",
       "      <td>9568</td>\n",
       "      <td>1762</td>\n",
       "      <td>3293</td>\n",
       "      <td>1776</td>\n",
       "    </tr>\n",
       "    <tr>\n",
       "      <th>3</th>\n",
       "      <td>Retail</td>\n",
       "      <td>Other</td>\n",
       "      <td>6353</td>\n",
       "      <td>8808</td>\n",
       "      <td>7684</td>\n",
       "      <td>2405</td>\n",
       "      <td>3516</td>\n",
       "      <td>7844</td>\n",
       "    </tr>\n",
       "    <tr>\n",
       "      <th>4</th>\n",
       "      <td>Hotel</td>\n",
       "      <td>Other</td>\n",
       "      <td>13265</td>\n",
       "      <td>1196</td>\n",
       "      <td>4221</td>\n",
       "      <td>6404</td>\n",
       "      <td>507</td>\n",
       "      <td>1788</td>\n",
       "    </tr>\n",
       "    <tr>\n",
       "      <th>5</th>\n",
       "      <td>Retail</td>\n",
       "      <td>Other</td>\n",
       "      <td>22615</td>\n",
       "      <td>5410</td>\n",
       "      <td>7198</td>\n",
       "      <td>3915</td>\n",
       "      <td>1777</td>\n",
       "      <td>5185</td>\n",
       "    </tr>\n",
       "  </tbody>\n",
       "</table>\n",
       "</div>"
      ],
      "text/plain": [
       "              Channel Region  Fresh  Milk  Grocery  Frozen  Detergents_Paper  \\\n",
       "Buyer/Spender                                                                  \n",
       "1              Retail  Other  12669  9656     7561     214              2674   \n",
       "2              Retail  Other   7057  9810     9568    1762              3293   \n",
       "3              Retail  Other   6353  8808     7684    2405              3516   \n",
       "4               Hotel  Other  13265  1196     4221    6404               507   \n",
       "5              Retail  Other  22615  5410     7198    3915              1777   \n",
       "\n",
       "               Delicatessen  \n",
       "Buyer/Spender                \n",
       "1                      1338  \n",
       "2                      1776  \n",
       "3                      7844  \n",
       "4                      1788  \n",
       "5                      5185  "
      ]
     },
     "execution_count": 2,
     "metadata": {},
     "output_type": "execute_result"
    }
   ],
   "source": [
    "df= pd.read_csv(\"Wholesale+Customers+Data.csv\",index_col=0)\n",
    "df.head()"
   ]
  },
  {
   "cell_type": "code",
   "execution_count": 3,
   "metadata": {},
   "outputs": [
    {
     "data": {
      "text/html": [
       "<div>\n",
       "<style scoped>\n",
       "    .dataframe tbody tr th:only-of-type {\n",
       "        vertical-align: middle;\n",
       "    }\n",
       "\n",
       "    .dataframe tbody tr th {\n",
       "        vertical-align: top;\n",
       "    }\n",
       "\n",
       "    .dataframe thead th {\n",
       "        text-align: right;\n",
       "    }\n",
       "</style>\n",
       "<table border=\"1\" class=\"dataframe\">\n",
       "  <thead>\n",
       "    <tr style=\"text-align: right;\">\n",
       "      <th></th>\n",
       "      <th>Channel</th>\n",
       "      <th>Region</th>\n",
       "      <th>Fresh</th>\n",
       "      <th>Milk</th>\n",
       "      <th>Grocery</th>\n",
       "      <th>Frozen</th>\n",
       "      <th>Detergents_Paper</th>\n",
       "      <th>Delicatessen</th>\n",
       "      <th>Total_Spending</th>\n",
       "    </tr>\n",
       "    <tr>\n",
       "      <th>Buyer/Spender</th>\n",
       "      <th></th>\n",
       "      <th></th>\n",
       "      <th></th>\n",
       "      <th></th>\n",
       "      <th></th>\n",
       "      <th></th>\n",
       "      <th></th>\n",
       "      <th></th>\n",
       "      <th></th>\n",
       "    </tr>\n",
       "  </thead>\n",
       "  <tbody>\n",
       "    <tr>\n",
       "      <th>1</th>\n",
       "      <td>Retail</td>\n",
       "      <td>Other</td>\n",
       "      <td>12669</td>\n",
       "      <td>9656</td>\n",
       "      <td>7561</td>\n",
       "      <td>214</td>\n",
       "      <td>2674</td>\n",
       "      <td>1338</td>\n",
       "      <td>34112</td>\n",
       "    </tr>\n",
       "    <tr>\n",
       "      <th>2</th>\n",
       "      <td>Retail</td>\n",
       "      <td>Other</td>\n",
       "      <td>7057</td>\n",
       "      <td>9810</td>\n",
       "      <td>9568</td>\n",
       "      <td>1762</td>\n",
       "      <td>3293</td>\n",
       "      <td>1776</td>\n",
       "      <td>33266</td>\n",
       "    </tr>\n",
       "    <tr>\n",
       "      <th>3</th>\n",
       "      <td>Retail</td>\n",
       "      <td>Other</td>\n",
       "      <td>6353</td>\n",
       "      <td>8808</td>\n",
       "      <td>7684</td>\n",
       "      <td>2405</td>\n",
       "      <td>3516</td>\n",
       "      <td>7844</td>\n",
       "      <td>36610</td>\n",
       "    </tr>\n",
       "    <tr>\n",
       "      <th>4</th>\n",
       "      <td>Hotel</td>\n",
       "      <td>Other</td>\n",
       "      <td>13265</td>\n",
       "      <td>1196</td>\n",
       "      <td>4221</td>\n",
       "      <td>6404</td>\n",
       "      <td>507</td>\n",
       "      <td>1788</td>\n",
       "      <td>27381</td>\n",
       "    </tr>\n",
       "    <tr>\n",
       "      <th>5</th>\n",
       "      <td>Retail</td>\n",
       "      <td>Other</td>\n",
       "      <td>22615</td>\n",
       "      <td>5410</td>\n",
       "      <td>7198</td>\n",
       "      <td>3915</td>\n",
       "      <td>1777</td>\n",
       "      <td>5185</td>\n",
       "      <td>46100</td>\n",
       "    </tr>\n",
       "  </tbody>\n",
       "</table>\n",
       "</div>"
      ],
      "text/plain": [
       "              Channel Region  Fresh  Milk  Grocery  Frozen  Detergents_Paper  \\\n",
       "Buyer/Spender                                                                  \n",
       "1              Retail  Other  12669  9656     7561     214              2674   \n",
       "2              Retail  Other   7057  9810     9568    1762              3293   \n",
       "3              Retail  Other   6353  8808     7684    2405              3516   \n",
       "4               Hotel  Other  13265  1196     4221    6404               507   \n",
       "5              Retail  Other  22615  5410     7198    3915              1777   \n",
       "\n",
       "               Delicatessen  Total_Spending  \n",
       "Buyer/Spender                                \n",
       "1                      1338           34112  \n",
       "2                      1776           33266  \n",
       "3                      7844           36610  \n",
       "4                      1788           27381  \n",
       "5                      5185           46100  "
      ]
     },
     "execution_count": 3,
     "metadata": {},
     "output_type": "execute_result"
    }
   ],
   "source": [
    "df[\"Total_Spending\"]=df[\"Fresh\"]+df[\"Milk\"]+df[\"Grocery\"]+df[\"Frozen\"]+df['Detergents_Paper']+df[\"Delicatessen\"]\n",
    "df.head()"
   ]
  },
  {
   "cell_type": "code",
   "execution_count": 4,
   "metadata": {},
   "outputs": [
    {
     "data": {
      "text/plain": [
       "Fresh                5280131\n",
       "Milk                 2550357\n",
       "Grocery              3498562\n",
       "Frozen               1351650\n",
       "Detergents_Paper     1267857\n",
       "Delicatessen          670943\n",
       "Total_Spending      14619500\n",
       "dtype: int64"
      ]
     },
     "execution_count": 4,
     "metadata": {},
     "output_type": "execute_result"
    }
   ],
   "source": [
    "sum= df.sum(numeric_only=True)\n",
    "sum"
   ]
  },
  {
   "cell_type": "markdown",
   "metadata": {},
   "source": [
    "# 1.1 Use methods of descriptive statistics to summarize data. Which Region and which Channel seems to spend more? Which Region and which Channel seems to spend less?"
   ]
  },
  {
   "cell_type": "code",
   "execution_count": 5,
   "metadata": {},
   "outputs": [
    {
     "data": {
      "text/plain": [
       "Region\n",
       "Lisbon     2386813\n",
       "Oporto     1555088\n",
       "Other     10677599\n",
       "Name: Total_Spending, dtype: int64"
      ]
     },
     "execution_count": 5,
     "metadata": {},
     "output_type": "execute_result"
    }
   ],
   "source": [
    "x=df.groupby([\"Region\"])[\"Total_Spending\"].sum()\n",
    "x"
   ]
  },
  {
   "cell_type": "code",
   "execution_count": 6,
   "metadata": {},
   "outputs": [
    {
     "data": {
      "image/png": "[encoded data removed]",
      "text/plain": [
       "<Figure size 432x288 with 1 Axes>"
      ]
     },
     "metadata": {
      "needs_background": "light"
     },
     "output_type": "display_data"
    }
   ],
   "source": [
    "x.plot(kind=\"bar\");"
   ]
  },
  {
   "cell_type": "code",
   "execution_count": 7,
   "metadata": {},
   "outputs": [
    {
     "name": "stdout",
     "output_type": "stream",
     "text": [
      "Other spends the most with a total spending of 10677599 and Opporto spends the least with a total spending of 1555088\n"
     ]
    }
   ],
   "source": [
    "print(\"Other spends the most with a total spending of 10677599 and Opporto spends the least with a total spending of 1555088\")"
   ]
  },
  {
   "cell_type": "code",
   "execution_count": 8,
   "metadata": {},
   "outputs": [
    {
     "data": {
      "text/html": [
       "<div>\n",
       "<style scoped>\n",
       "    .dataframe tbody tr th:only-of-type {\n",
       "        vertical-align: middle;\n",
       "    }\n",
       "\n",
       "    .dataframe tbody tr th {\n",
       "        vertical-align: top;\n",
       "    }\n",
       "\n",
       "    .dataframe thead th {\n",
       "        text-align: right;\n",
       "    }\n",
       "</style>\n",
       "<table border=\"1\" class=\"dataframe\">\n",
       "  <thead>\n",
       "    <tr style=\"text-align: right;\">\n",
       "      <th></th>\n",
       "      <th>count</th>\n",
       "      <th>mean</th>\n",
       "      <th>std</th>\n",
       "      <th>min</th>\n",
       "      <th>25%</th>\n",
       "      <th>50%</th>\n",
       "      <th>75%</th>\n",
       "      <th>max</th>\n",
       "    </tr>\n",
       "    <tr>\n",
       "      <th>Region</th>\n",
       "      <th></th>\n",
       "      <th></th>\n",
       "      <th></th>\n",
       "      <th></th>\n",
       "      <th></th>\n",
       "      <th></th>\n",
       "      <th></th>\n",
       "      <th></th>\n",
       "    </tr>\n",
       "  </thead>\n",
       "  <tbody>\n",
       "    <tr>\n",
       "      <th>Lisbon</th>\n",
       "      <td>77.0</td>\n",
       "      <td>30997.571429</td>\n",
       "      <td>20321.813773</td>\n",
       "      <td>4925.0</td>\n",
       "      <td>17184.00</td>\n",
       "      <td>25385.0</td>\n",
       "      <td>38699.00</td>\n",
       "      <td>107155.0</td>\n",
       "    </tr>\n",
       "    <tr>\n",
       "      <th>Oporto</th>\n",
       "      <td>47.0</td>\n",
       "      <td>33086.978723</td>\n",
       "      <td>24234.507325</td>\n",
       "      <td>4129.0</td>\n",
       "      <td>20611.50</td>\n",
       "      <td>26953.0</td>\n",
       "      <td>36158.50</td>\n",
       "      <td>130877.0</td>\n",
       "    </tr>\n",
       "    <tr>\n",
       "      <th>Other</th>\n",
       "      <td>316.0</td>\n",
       "      <td>33789.870253</td>\n",
       "      <td>27949.337752</td>\n",
       "      <td>904.0</td>\n",
       "      <td>17209.25</td>\n",
       "      <td>28029.0</td>\n",
       "      <td>42492.25</td>\n",
       "      <td>199891.0</td>\n",
       "    </tr>\n",
       "  </tbody>\n",
       "</table>\n",
       "</div>"
      ],
      "text/plain": [
       "        count          mean           std     min       25%      50%  \\\n",
       "Region                                                                 \n",
       "Lisbon   77.0  30997.571429  20321.813773  4925.0  17184.00  25385.0   \n",
       "Oporto   47.0  33086.978723  24234.507325  4129.0  20611.50  26953.0   \n",
       "Other   316.0  33789.870253  27949.337752   904.0  17209.25  28029.0   \n",
       "\n",
       "             75%       max  \n",
       "Region                      \n",
       "Lisbon  38699.00  107155.0  \n",
       "Oporto  36158.50  130877.0  \n",
       "Other   42492.25  199891.0  "
      ]
     },
     "execution_count": 8,
     "metadata": {},
     "output_type": "execute_result"
    }
   ],
   "source": [
    "df.groupby([\"Region\"])[\"Total_Spending\"].describe()"
   ]
  },
  {
   "cell_type": "code",
   "execution_count": 9,
   "metadata": {},
   "outputs": [
    {
     "data": {
      "text/plain": [
       "Channel\n",
       "Hotel     7999569\n",
       "Retail    6619931\n",
       "Name: Total_Spending, dtype: int64"
      ]
     },
     "execution_count": 9,
     "metadata": {},
     "output_type": "execute_result"
    }
   ],
   "source": [
    "y=df.groupby([\"Channel\"])[\"Total_Spending\"].sum()\n",
    "y"
   ]
  },
  {
   "cell_type": "code",
   "execution_count": 10,
   "metadata": {},
   "outputs": [
    {
     "data": {
      "image/png": "[encoded data removed]",
      "text/plain": [
       "<Figure size 432x288 with 1 Axes>"
      ]
     },
     "metadata": {
      "needs_background": "light"
     },
     "output_type": "display_data"
    }
   ],
   "source": [
    "y.plot(kind=\"bar\");"
   ]
  },
  {
   "cell_type": "code",
   "execution_count": 11,
   "metadata": {},
   "outputs": [
    {
     "name": "stdout",
     "output_type": "stream",
     "text": [
      "Hotel spending is the most with a total spending of 7999569 and Retail is the least with a total spending of 6619931\n"
     ]
    }
   ],
   "source": [
    "print(\"Hotel spending is the most with a total spending of 7999569 and Retail is the least with a total spending of 6619931\")"
   ]
  },
  {
   "cell_type": "code",
   "execution_count": 12,
   "metadata": {},
   "outputs": [
    {
     "data": {
      "text/html": [
       "<div>\n",
       "<style scoped>\n",
       "    .dataframe tbody tr th:only-of-type {\n",
       "        vertical-align: middle;\n",
       "    }\n",
       "\n",
       "    .dataframe tbody tr th {\n",
       "        vertical-align: top;\n",
       "    }\n",
       "\n",
       "    .dataframe thead th {\n",
       "        text-align: right;\n",
       "    }\n",
       "</style>\n",
       "<table border=\"1\" class=\"dataframe\">\n",
       "  <thead>\n",
       "    <tr style=\"text-align: right;\">\n",
       "      <th></th>\n",
       "      <th>count</th>\n",
       "      <th>mean</th>\n",
       "      <th>std</th>\n",
       "      <th>min</th>\n",
       "      <th>25%</th>\n",
       "      <th>50%</th>\n",
       "      <th>75%</th>\n",
       "      <th>max</th>\n",
       "    </tr>\n",
       "    <tr>\n",
       "      <th>Channel</th>\n",
       "      <th></th>\n",
       "      <th></th>\n",
       "      <th></th>\n",
       "      <th></th>\n",
       "      <th></th>\n",
       "      <th></th>\n",
       "      <th></th>\n",
       "      <th></th>\n",
       "    </tr>\n",
       "  </thead>\n",
       "  <tbody>\n",
       "    <tr>\n",
       "      <th>Hotel</th>\n",
       "      <td>298.0</td>\n",
       "      <td>26844.191275</td>\n",
       "      <td>22164.839073</td>\n",
       "      <td>904.0</td>\n",
       "      <td>13859.25</td>\n",
       "      <td>21254.5</td>\n",
       "      <td>32113.75</td>\n",
       "      <td>190169.0</td>\n",
       "    </tr>\n",
       "    <tr>\n",
       "      <th>Retail</th>\n",
       "      <td>142.0</td>\n",
       "      <td>46619.232394</td>\n",
       "      <td>29346.866491</td>\n",
       "      <td>14993.0</td>\n",
       "      <td>30147.25</td>\n",
       "      <td>37139.0</td>\n",
       "      <td>51650.50</td>\n",
       "      <td>199891.0</td>\n",
       "    </tr>\n",
       "  </tbody>\n",
       "</table>\n",
       "</div>"
      ],
      "text/plain": [
       "         count          mean           std      min       25%      50%  \\\n",
       "Channel                                                                  \n",
       "Hotel    298.0  26844.191275  22164.839073    904.0  13859.25  21254.5   \n",
       "Retail   142.0  46619.232394  29346.866491  14993.0  30147.25  37139.0   \n",
       "\n",
       "              75%       max  \n",
       "Channel                      \n",
       "Hotel    32113.75  190169.0  \n",
       "Retail   51650.50  199891.0  "
      ]
     },
     "execution_count": 12,
     "metadata": {},
     "output_type": "execute_result"
    }
   ],
   "source": [
    "df.groupby([\"Channel\"])[\"Total_Spending\"].describe()"
   ]
  },
  {
   "cell_type": "markdown",
   "metadata": {},
   "source": [
    "# 1.2 There are 6 different varieties of items are considered. Do all varieties show similar behaviour across Region and Channel?"
   ]
  },
  {
   "cell_type": "code",
   "execution_count": 13,
   "metadata": {},
   "outputs": [
    {
     "data": {
      "text/html": [
       "<div>\n",
       "<style scoped>\n",
       "    .dataframe tbody tr th:only-of-type {\n",
       "        vertical-align: middle;\n",
       "    }\n",
       "\n",
       "    .dataframe tbody tr th {\n",
       "        vertical-align: top;\n",
       "    }\n",
       "\n",
       "    .dataframe thead th {\n",
       "        text-align: right;\n",
       "    }\n",
       "</style>\n",
       "<table border=\"1\" class=\"dataframe\">\n",
       "  <thead>\n",
       "    <tr style=\"text-align: right;\">\n",
       "      <th></th>\n",
       "      <th>Region</th>\n",
       "      <th>Lisbon</th>\n",
       "      <th>Oporto</th>\n",
       "      <th>Other</th>\n",
       "    </tr>\n",
       "  </thead>\n",
       "  <tbody>\n",
       "    <tr>\n",
       "      <th rowspan=\"8\" valign=\"top\">Fresh</th>\n",
       "      <th>count</th>\n",
       "      <td>77.000000</td>\n",
       "      <td>47.000000</td>\n",
       "      <td>316.000000</td>\n",
       "    </tr>\n",
       "    <tr>\n",
       "      <th>mean</th>\n",
       "      <td>11101.727273</td>\n",
       "      <td>9887.680851</td>\n",
       "      <td>12533.471519</td>\n",
       "    </tr>\n",
       "    <tr>\n",
       "      <th>std</th>\n",
       "      <td>11557.438575</td>\n",
       "      <td>8387.899211</td>\n",
       "      <td>13389.213115</td>\n",
       "    </tr>\n",
       "    <tr>\n",
       "      <th>min</th>\n",
       "      <td>18.000000</td>\n",
       "      <td>3.000000</td>\n",
       "      <td>3.000000</td>\n",
       "    </tr>\n",
       "    <tr>\n",
       "      <th>25%</th>\n",
       "      <td>2806.000000</td>\n",
       "      <td>2751.500000</td>\n",
       "      <td>3350.750000</td>\n",
       "    </tr>\n",
       "    <tr>\n",
       "      <th>50%</th>\n",
       "      <td>7363.000000</td>\n",
       "      <td>8090.000000</td>\n",
       "      <td>8752.500000</td>\n",
       "    </tr>\n",
       "    <tr>\n",
       "      <th>75%</th>\n",
       "      <td>15218.000000</td>\n",
       "      <td>14925.500000</td>\n",
       "      <td>17406.500000</td>\n",
       "    </tr>\n",
       "    <tr>\n",
       "      <th>max</th>\n",
       "      <td>56083.000000</td>\n",
       "      <td>32717.000000</td>\n",
       "      <td>112151.000000</td>\n",
       "    </tr>\n",
       "    <tr>\n",
       "      <th rowspan=\"8\" valign=\"top\">Milk</th>\n",
       "      <th>count</th>\n",
       "      <td>77.000000</td>\n",
       "      <td>47.000000</td>\n",
       "      <td>316.000000</td>\n",
       "    </tr>\n",
       "    <tr>\n",
       "      <th>mean</th>\n",
       "      <td>5486.415584</td>\n",
       "      <td>5088.170213</td>\n",
       "      <td>5977.085443</td>\n",
       "    </tr>\n",
       "    <tr>\n",
       "      <th>std</th>\n",
       "      <td>5704.856079</td>\n",
       "      <td>5826.343145</td>\n",
       "      <td>7935.463443</td>\n",
       "    </tr>\n",
       "    <tr>\n",
       "      <th>min</th>\n",
       "      <td>258.000000</td>\n",
       "      <td>333.000000</td>\n",
       "      <td>55.000000</td>\n",
       "    </tr>\n",
       "    <tr>\n",
       "      <th>25%</th>\n",
       "      <td>1372.000000</td>\n",
       "      <td>1430.500000</td>\n",
       "      <td>1634.000000</td>\n",
       "    </tr>\n",
       "    <tr>\n",
       "      <th>50%</th>\n",
       "      <td>3748.000000</td>\n",
       "      <td>2374.000000</td>\n",
       "      <td>3684.500000</td>\n",
       "    </tr>\n",
       "    <tr>\n",
       "      <th>75%</th>\n",
       "      <td>7503.000000</td>\n",
       "      <td>5772.500000</td>\n",
       "      <td>7198.750000</td>\n",
       "    </tr>\n",
       "    <tr>\n",
       "      <th>max</th>\n",
       "      <td>28326.000000</td>\n",
       "      <td>25071.000000</td>\n",
       "      <td>73498.000000</td>\n",
       "    </tr>\n",
       "    <tr>\n",
       "      <th rowspan=\"8\" valign=\"top\">Grocery</th>\n",
       "      <th>count</th>\n",
       "      <td>77.000000</td>\n",
       "      <td>47.000000</td>\n",
       "      <td>316.000000</td>\n",
       "    </tr>\n",
       "    <tr>\n",
       "      <th>mean</th>\n",
       "      <td>7403.077922</td>\n",
       "      <td>9218.595745</td>\n",
       "      <td>7896.363924</td>\n",
       "    </tr>\n",
       "    <tr>\n",
       "      <th>std</th>\n",
       "      <td>8496.287728</td>\n",
       "      <td>10842.745314</td>\n",
       "      <td>9537.287778</td>\n",
       "    </tr>\n",
       "    <tr>\n",
       "      <th>min</th>\n",
       "      <td>489.000000</td>\n",
       "      <td>1330.000000</td>\n",
       "      <td>3.000000</td>\n",
       "    </tr>\n",
       "    <tr>\n",
       "      <th>25%</th>\n",
       "      <td>2046.000000</td>\n",
       "      <td>2792.500000</td>\n",
       "      <td>2141.500000</td>\n",
       "    </tr>\n",
       "    <tr>\n",
       "      <th>50%</th>\n",
       "      <td>3838.000000</td>\n",
       "      <td>6114.000000</td>\n",
       "      <td>4732.000000</td>\n",
       "    </tr>\n",
       "    <tr>\n",
       "      <th>75%</th>\n",
       "      <td>9490.000000</td>\n",
       "      <td>11758.500000</td>\n",
       "      <td>10559.750000</td>\n",
       "    </tr>\n",
       "    <tr>\n",
       "      <th>max</th>\n",
       "      <td>39694.000000</td>\n",
       "      <td>67298.000000</td>\n",
       "      <td>92780.000000</td>\n",
       "    </tr>\n",
       "    <tr>\n",
       "      <th rowspan=\"8\" valign=\"top\">Frozen</th>\n",
       "      <th>count</th>\n",
       "      <td>77.000000</td>\n",
       "      <td>47.000000</td>\n",
       "      <td>316.000000</td>\n",
       "    </tr>\n",
       "    <tr>\n",
       "      <th>mean</th>\n",
       "      <td>3000.337662</td>\n",
       "      <td>4045.361702</td>\n",
       "      <td>2944.594937</td>\n",
       "    </tr>\n",
       "    <tr>\n",
       "      <th>std</th>\n",
       "      <td>3092.143894</td>\n",
       "      <td>9151.784954</td>\n",
       "      <td>4260.126243</td>\n",
       "    </tr>\n",
       "    <tr>\n",
       "      <th>min</th>\n",
       "      <td>61.000000</td>\n",
       "      <td>131.000000</td>\n",
       "      <td>25.000000</td>\n",
       "    </tr>\n",
       "    <tr>\n",
       "      <th>25%</th>\n",
       "      <td>950.000000</td>\n",
       "      <td>811.500000</td>\n",
       "      <td>664.750000</td>\n",
       "    </tr>\n",
       "    <tr>\n",
       "      <th>50%</th>\n",
       "      <td>1801.000000</td>\n",
       "      <td>1455.000000</td>\n",
       "      <td>1498.000000</td>\n",
       "    </tr>\n",
       "    <tr>\n",
       "      <th>75%</th>\n",
       "      <td>4324.000000</td>\n",
       "      <td>3272.000000</td>\n",
       "      <td>3354.750000</td>\n",
       "    </tr>\n",
       "    <tr>\n",
       "      <th>max</th>\n",
       "      <td>18711.000000</td>\n",
       "      <td>60869.000000</td>\n",
       "      <td>36534.000000</td>\n",
       "    </tr>\n",
       "    <tr>\n",
       "      <th rowspan=\"8\" valign=\"top\">Detergents_Paper</th>\n",
       "      <th>count</th>\n",
       "      <td>77.000000</td>\n",
       "      <td>47.000000</td>\n",
       "      <td>316.000000</td>\n",
       "    </tr>\n",
       "    <tr>\n",
       "      <th>mean</th>\n",
       "      <td>2651.116883</td>\n",
       "      <td>3687.468085</td>\n",
       "      <td>2817.753165</td>\n",
       "    </tr>\n",
       "    <tr>\n",
       "      <th>std</th>\n",
       "      <td>4208.462708</td>\n",
       "      <td>6514.717668</td>\n",
       "      <td>4593.051613</td>\n",
       "    </tr>\n",
       "    <tr>\n",
       "      <th>min</th>\n",
       "      <td>5.000000</td>\n",
       "      <td>15.000000</td>\n",
       "      <td>3.000000</td>\n",
       "    </tr>\n",
       "    <tr>\n",
       "      <th>25%</th>\n",
       "      <td>284.000000</td>\n",
       "      <td>282.500000</td>\n",
       "      <td>251.250000</td>\n",
       "    </tr>\n",
       "    <tr>\n",
       "      <th>50%</th>\n",
       "      <td>737.000000</td>\n",
       "      <td>811.000000</td>\n",
       "      <td>856.000000</td>\n",
       "    </tr>\n",
       "    <tr>\n",
       "      <th>75%</th>\n",
       "      <td>3593.000000</td>\n",
       "      <td>4324.500000</td>\n",
       "      <td>3875.750000</td>\n",
       "    </tr>\n",
       "    <tr>\n",
       "      <th>max</th>\n",
       "      <td>19410.000000</td>\n",
       "      <td>38102.000000</td>\n",
       "      <td>40827.000000</td>\n",
       "    </tr>\n",
       "    <tr>\n",
       "      <th rowspan=\"8\" valign=\"top\">Delicatessen</th>\n",
       "      <th>count</th>\n",
       "      <td>77.000000</td>\n",
       "      <td>47.000000</td>\n",
       "      <td>316.000000</td>\n",
       "    </tr>\n",
       "    <tr>\n",
       "      <th>mean</th>\n",
       "      <td>1354.896104</td>\n",
       "      <td>1159.702128</td>\n",
       "      <td>1620.601266</td>\n",
       "    </tr>\n",
       "    <tr>\n",
       "      <th>std</th>\n",
       "      <td>1345.423340</td>\n",
       "      <td>1050.739841</td>\n",
       "      <td>3232.581660</td>\n",
       "    </tr>\n",
       "    <tr>\n",
       "      <th>min</th>\n",
       "      <td>7.000000</td>\n",
       "      <td>51.000000</td>\n",
       "      <td>3.000000</td>\n",
       "    </tr>\n",
       "    <tr>\n",
       "      <th>25%</th>\n",
       "      <td>548.000000</td>\n",
       "      <td>540.500000</td>\n",
       "      <td>402.000000</td>\n",
       "    </tr>\n",
       "    <tr>\n",
       "      <th>50%</th>\n",
       "      <td>806.000000</td>\n",
       "      <td>898.000000</td>\n",
       "      <td>994.000000</td>\n",
       "    </tr>\n",
       "    <tr>\n",
       "      <th>75%</th>\n",
       "      <td>1775.000000</td>\n",
       "      <td>1538.500000</td>\n",
       "      <td>1832.750000</td>\n",
       "    </tr>\n",
       "    <tr>\n",
       "      <th>max</th>\n",
       "      <td>6854.000000</td>\n",
       "      <td>5609.000000</td>\n",
       "      <td>47943.000000</td>\n",
       "    </tr>\n",
       "    <tr>\n",
       "      <th rowspan=\"8\" valign=\"top\">Total_Spending</th>\n",
       "      <th>count</th>\n",
       "      <td>77.000000</td>\n",
       "      <td>47.000000</td>\n",
       "      <td>316.000000</td>\n",
       "    </tr>\n",
       "    <tr>\n",
       "      <th>mean</th>\n",
       "      <td>30997.571429</td>\n",
       "      <td>33086.978723</td>\n",
       "      <td>33789.870253</td>\n",
       "    </tr>\n",
       "    <tr>\n",
       "      <th>std</th>\n",
       "      <td>20321.813773</td>\n",
       "      <td>24234.507325</td>\n",
       "      <td>27949.337752</td>\n",
       "    </tr>\n",
       "    <tr>\n",
       "      <th>min</th>\n",
       "      <td>4925.000000</td>\n",
       "      <td>4129.000000</td>\n",
       "      <td>904.000000</td>\n",
       "    </tr>\n",
       "    <tr>\n",
       "      <th>25%</th>\n",
       "      <td>17184.000000</td>\n",
       "      <td>20611.500000</td>\n",
       "      <td>17209.250000</td>\n",
       "    </tr>\n",
       "    <tr>\n",
       "      <th>50%</th>\n",
       "      <td>25385.000000</td>\n",
       "      <td>26953.000000</td>\n",
       "      <td>28029.000000</td>\n",
       "    </tr>\n",
       "    <tr>\n",
       "      <th>75%</th>\n",
       "      <td>38699.000000</td>\n",
       "      <td>36158.500000</td>\n",
       "      <td>42492.250000</td>\n",
       "    </tr>\n",
       "    <tr>\n",
       "      <th>max</th>\n",
       "      <td>107155.000000</td>\n",
       "      <td>130877.000000</td>\n",
       "      <td>199891.000000</td>\n",
       "    </tr>\n",
       "  </tbody>\n",
       "</table>\n",
       "</div>"
      ],
      "text/plain": [
       "Region                         Lisbon         Oporto          Other\n",
       "Fresh            count      77.000000      47.000000     316.000000\n",
       "                 mean    11101.727273    9887.680851   12533.471519\n",
       "                 std     11557.438575    8387.899211   13389.213115\n",
       "                 min        18.000000       3.000000       3.000000\n",
       "                 25%      2806.000000    2751.500000    3350.750000\n",
       "                 50%      7363.000000    8090.000000    8752.500000\n",
       "                 75%     15218.000000   14925.500000   17406.500000\n",
       "                 max     56083.000000   32717.000000  112151.000000\n",
       "Milk             count      77.000000      47.000000     316.000000\n",
       "                 mean     5486.415584    5088.170213    5977.085443\n",
       "                 std      5704.856079    5826.343145    7935.463443\n",
       "                 min       258.000000     333.000000      55.000000\n",
       "                 25%      1372.000000    1430.500000    1634.000000\n",
       "                 50%      3748.000000    2374.000000    3684.500000\n",
       "                 75%      7503.000000    5772.500000    7198.750000\n",
       "                 max     28326.000000   25071.000000   73498.000000\n",
       "Grocery          count      77.000000      47.000000     316.000000\n",
       "                 mean     7403.077922    9218.595745    7896.363924\n",
       "                 std      8496.287728   10842.745314    9537.287778\n",
       "                 min       489.000000    1330.000000       3.000000\n",
       "                 25%      2046.000000    2792.500000    2141.500000\n",
       "                 50%      3838.000000    6114.000000    4732.000000\n",
       "                 75%      9490.000000   11758.500000   10559.750000\n",
       "                 max     39694.000000   67298.000000   92780.000000\n",
       "Frozen           count      77.000000      47.000000     316.000000\n",
       "                 mean     3000.337662    4045.361702    2944.594937\n",
       "                 std      3092.143894    9151.784954    4260.126243\n",
       "                 min        61.000000     131.000000      25.000000\n",
       "                 25%       950.000000     811.500000     664.750000\n",
       "                 50%      1801.000000    1455.000000    1498.000000\n",
       "                 75%      4324.000000    3272.000000    3354.750000\n",
       "                 max     18711.000000   60869.000000   36534.000000\n",
       "Detergents_Paper count      77.000000      47.000000     316.000000\n",
       "                 mean     2651.116883    3687.468085    2817.753165\n",
       "                 std      4208.462708    6514.717668    4593.051613\n",
       "                 min         5.000000      15.000000       3.000000\n",
       "                 25%       284.000000     282.500000     251.250000\n",
       "                 50%       737.000000     811.000000     856.000000\n",
       "                 75%      3593.000000    4324.500000    3875.750000\n",
       "                 max     19410.000000   38102.000000   40827.000000\n",
       "Delicatessen     count      77.000000      47.000000     316.000000\n",
       "                 mean     1354.896104    1159.702128    1620.601266\n",
       "                 std      1345.423340    1050.739841    3232.581660\n",
       "                 min         7.000000      51.000000       3.000000\n",
       "                 25%       548.000000     540.500000     402.000000\n",
       "                 50%       806.000000     898.000000     994.000000\n",
       "                 75%      1775.000000    1538.500000    1832.750000\n",
       "                 max      6854.000000    5609.000000   47943.000000\n",
       "Total_Spending   count      77.000000      47.000000     316.000000\n",
       "                 mean    30997.571429   33086.978723   33789.870253\n",
       "                 std     20321.813773   24234.507325   27949.337752\n",
       "                 min      4925.000000    4129.000000     904.000000\n",
       "                 25%     17184.000000   20611.500000   17209.250000\n",
       "                 50%     25385.000000   26953.000000   28029.000000\n",
       "                 75%     38699.000000   36158.500000   42492.250000\n",
       "                 max    107155.000000  130877.000000  199891.000000"
      ]
     },
     "execution_count": 13,
     "metadata": {},
     "output_type": "execute_result"
    }
   ],
   "source": [
    "df.groupby(\"Region\").describe().T"
   ]
  },
  {
   "cell_type": "code",
   "execution_count": 14,
   "metadata": {},
   "outputs": [
    {
     "name": "stdout",
     "output_type": "stream",
     "text": [
      "Apart from Fresh and Delicatessen, all items exhibit minimum variance in Lisbon, while maximum variability differs for most items\n"
     ]
    }
   ],
   "source": [
    "print (\"Apart from Fresh and Delicatessen, all items exhibit minimum variance in Lisbon, while maximum variability differs for most items\")"
   ]
  },
  {
   "cell_type": "code",
   "execution_count": 15,
   "metadata": {},
   "outputs": [
    {
     "data": {
      "text/html": [
       "<div>\n",
       "<style scoped>\n",
       "    .dataframe tbody tr th:only-of-type {\n",
       "        vertical-align: middle;\n",
       "    }\n",
       "\n",
       "    .dataframe tbody tr th {\n",
       "        vertical-align: top;\n",
       "    }\n",
       "\n",
       "    .dataframe thead th {\n",
       "        text-align: right;\n",
       "    }\n",
       "</style>\n",
       "<table border=\"1\" class=\"dataframe\">\n",
       "  <thead>\n",
       "    <tr style=\"text-align: right;\">\n",
       "      <th></th>\n",
       "      <th>Channel</th>\n",
       "      <th>Hotel</th>\n",
       "      <th>Retail</th>\n",
       "    </tr>\n",
       "  </thead>\n",
       "  <tbody>\n",
       "    <tr>\n",
       "      <th rowspan=\"8\" valign=\"top\">Fresh</th>\n",
       "      <th>count</th>\n",
       "      <td>298.000000</td>\n",
       "      <td>142.000000</td>\n",
       "    </tr>\n",
       "    <tr>\n",
       "      <th>mean</th>\n",
       "      <td>13475.560403</td>\n",
       "      <td>8904.323944</td>\n",
       "    </tr>\n",
       "    <tr>\n",
       "      <th>std</th>\n",
       "      <td>13831.687502</td>\n",
       "      <td>8987.714750</td>\n",
       "    </tr>\n",
       "    <tr>\n",
       "      <th>min</th>\n",
       "      <td>3.000000</td>\n",
       "      <td>18.000000</td>\n",
       "    </tr>\n",
       "    <tr>\n",
       "      <th>25%</th>\n",
       "      <td>4070.250000</td>\n",
       "      <td>2347.750000</td>\n",
       "    </tr>\n",
       "    <tr>\n",
       "      <th>50%</th>\n",
       "      <td>9581.500000</td>\n",
       "      <td>5993.500000</td>\n",
       "    </tr>\n",
       "    <tr>\n",
       "      <th>75%</th>\n",
       "      <td>18274.750000</td>\n",
       "      <td>12229.750000</td>\n",
       "    </tr>\n",
       "    <tr>\n",
       "      <th>max</th>\n",
       "      <td>112151.000000</td>\n",
       "      <td>44466.000000</td>\n",
       "    </tr>\n",
       "    <tr>\n",
       "      <th rowspan=\"8\" valign=\"top\">Milk</th>\n",
       "      <th>count</th>\n",
       "      <td>298.000000</td>\n",
       "      <td>142.000000</td>\n",
       "    </tr>\n",
       "    <tr>\n",
       "      <th>mean</th>\n",
       "      <td>3451.724832</td>\n",
       "      <td>10716.500000</td>\n",
       "    </tr>\n",
       "    <tr>\n",
       "      <th>std</th>\n",
       "      <td>4352.165571</td>\n",
       "      <td>9679.631351</td>\n",
       "    </tr>\n",
       "    <tr>\n",
       "      <th>min</th>\n",
       "      <td>55.000000</td>\n",
       "      <td>928.000000</td>\n",
       "    </tr>\n",
       "    <tr>\n",
       "      <th>25%</th>\n",
       "      <td>1164.500000</td>\n",
       "      <td>5938.000000</td>\n",
       "    </tr>\n",
       "    <tr>\n",
       "      <th>50%</th>\n",
       "      <td>2157.000000</td>\n",
       "      <td>7812.000000</td>\n",
       "    </tr>\n",
       "    <tr>\n",
       "      <th>75%</th>\n",
       "      <td>4029.500000</td>\n",
       "      <td>12162.750000</td>\n",
       "    </tr>\n",
       "    <tr>\n",
       "      <th>max</th>\n",
       "      <td>43950.000000</td>\n",
       "      <td>73498.000000</td>\n",
       "    </tr>\n",
       "    <tr>\n",
       "      <th rowspan=\"8\" valign=\"top\">Grocery</th>\n",
       "      <th>count</th>\n",
       "      <td>298.000000</td>\n",
       "      <td>142.000000</td>\n",
       "    </tr>\n",
       "    <tr>\n",
       "      <th>mean</th>\n",
       "      <td>3962.137584</td>\n",
       "      <td>16322.852113</td>\n",
       "    </tr>\n",
       "    <tr>\n",
       "      <th>std</th>\n",
       "      <td>3545.513391</td>\n",
       "      <td>12267.318094</td>\n",
       "    </tr>\n",
       "    <tr>\n",
       "      <th>min</th>\n",
       "      <td>3.000000</td>\n",
       "      <td>2743.000000</td>\n",
       "    </tr>\n",
       "    <tr>\n",
       "      <th>25%</th>\n",
       "      <td>1703.750000</td>\n",
       "      <td>9245.250000</td>\n",
       "    </tr>\n",
       "    <tr>\n",
       "      <th>50%</th>\n",
       "      <td>2684.000000</td>\n",
       "      <td>12390.000000</td>\n",
       "    </tr>\n",
       "    <tr>\n",
       "      <th>75%</th>\n",
       "      <td>5076.750000</td>\n",
       "      <td>20183.500000</td>\n",
       "    </tr>\n",
       "    <tr>\n",
       "      <th>max</th>\n",
       "      <td>21042.000000</td>\n",
       "      <td>92780.000000</td>\n",
       "    </tr>\n",
       "    <tr>\n",
       "      <th rowspan=\"8\" valign=\"top\">Frozen</th>\n",
       "      <th>count</th>\n",
       "      <td>298.000000</td>\n",
       "      <td>142.000000</td>\n",
       "    </tr>\n",
       "    <tr>\n",
       "      <th>mean</th>\n",
       "      <td>3748.251678</td>\n",
       "      <td>1652.612676</td>\n",
       "    </tr>\n",
       "    <tr>\n",
       "      <th>std</th>\n",
       "      <td>5643.912500</td>\n",
       "      <td>1812.803662</td>\n",
       "    </tr>\n",
       "    <tr>\n",
       "      <th>min</th>\n",
       "      <td>25.000000</td>\n",
       "      <td>33.000000</td>\n",
       "    </tr>\n",
       "    <tr>\n",
       "      <th>25%</th>\n",
       "      <td>830.000000</td>\n",
       "      <td>534.250000</td>\n",
       "    </tr>\n",
       "    <tr>\n",
       "      <th>50%</th>\n",
       "      <td>2057.500000</td>\n",
       "      <td>1081.000000</td>\n",
       "    </tr>\n",
       "    <tr>\n",
       "      <th>75%</th>\n",
       "      <td>4558.750000</td>\n",
       "      <td>2146.750000</td>\n",
       "    </tr>\n",
       "    <tr>\n",
       "      <th>max</th>\n",
       "      <td>60869.000000</td>\n",
       "      <td>11559.000000</td>\n",
       "    </tr>\n",
       "    <tr>\n",
       "      <th rowspan=\"8\" valign=\"top\">Detergents_Paper</th>\n",
       "      <th>count</th>\n",
       "      <td>298.000000</td>\n",
       "      <td>142.000000</td>\n",
       "    </tr>\n",
       "    <tr>\n",
       "      <th>mean</th>\n",
       "      <td>790.560403</td>\n",
       "      <td>7269.507042</td>\n",
       "    </tr>\n",
       "    <tr>\n",
       "      <th>std</th>\n",
       "      <td>1104.093673</td>\n",
       "      <td>6291.089697</td>\n",
       "    </tr>\n",
       "    <tr>\n",
       "      <th>min</th>\n",
       "      <td>3.000000</td>\n",
       "      <td>332.000000</td>\n",
       "    </tr>\n",
       "    <tr>\n",
       "      <th>25%</th>\n",
       "      <td>183.250000</td>\n",
       "      <td>3683.500000</td>\n",
       "    </tr>\n",
       "    <tr>\n",
       "      <th>50%</th>\n",
       "      <td>385.500000</td>\n",
       "      <td>5614.500000</td>\n",
       "    </tr>\n",
       "    <tr>\n",
       "      <th>75%</th>\n",
       "      <td>899.500000</td>\n",
       "      <td>8662.500000</td>\n",
       "    </tr>\n",
       "    <tr>\n",
       "      <th>max</th>\n",
       "      <td>6907.000000</td>\n",
       "      <td>40827.000000</td>\n",
       "    </tr>\n",
       "    <tr>\n",
       "      <th rowspan=\"8\" valign=\"top\">Delicatessen</th>\n",
       "      <th>count</th>\n",
       "      <td>298.000000</td>\n",
       "      <td>142.000000</td>\n",
       "    </tr>\n",
       "    <tr>\n",
       "      <th>mean</th>\n",
       "      <td>1415.956376</td>\n",
       "      <td>1753.436620</td>\n",
       "    </tr>\n",
       "    <tr>\n",
       "      <th>std</th>\n",
       "      <td>3147.426922</td>\n",
       "      <td>1953.797047</td>\n",
       "    </tr>\n",
       "    <tr>\n",
       "      <th>min</th>\n",
       "      <td>3.000000</td>\n",
       "      <td>3.000000</td>\n",
       "    </tr>\n",
       "    <tr>\n",
       "      <th>25%</th>\n",
       "      <td>379.000000</td>\n",
       "      <td>566.750000</td>\n",
       "    </tr>\n",
       "    <tr>\n",
       "      <th>50%</th>\n",
       "      <td>821.000000</td>\n",
       "      <td>1350.000000</td>\n",
       "    </tr>\n",
       "    <tr>\n",
       "      <th>75%</th>\n",
       "      <td>1548.000000</td>\n",
       "      <td>2156.000000</td>\n",
       "    </tr>\n",
       "    <tr>\n",
       "      <th>max</th>\n",
       "      <td>47943.000000</td>\n",
       "      <td>16523.000000</td>\n",
       "    </tr>\n",
       "    <tr>\n",
       "      <th rowspan=\"8\" valign=\"top\">Total_Spending</th>\n",
       "      <th>count</th>\n",
       "      <td>298.000000</td>\n",
       "      <td>142.000000</td>\n",
       "    </tr>\n",
       "    <tr>\n",
       "      <th>mean</th>\n",
       "      <td>26844.191275</td>\n",
       "      <td>46619.232394</td>\n",
       "    </tr>\n",
       "    <tr>\n",
       "      <th>std</th>\n",
       "      <td>22164.839073</td>\n",
       "      <td>29346.866491</td>\n",
       "    </tr>\n",
       "    <tr>\n",
       "      <th>min</th>\n",
       "      <td>904.000000</td>\n",
       "      <td>14993.000000</td>\n",
       "    </tr>\n",
       "    <tr>\n",
       "      <th>25%</th>\n",
       "      <td>13859.250000</td>\n",
       "      <td>30147.250000</td>\n",
       "    </tr>\n",
       "    <tr>\n",
       "      <th>50%</th>\n",
       "      <td>21254.500000</td>\n",
       "      <td>37139.000000</td>\n",
       "    </tr>\n",
       "    <tr>\n",
       "      <th>75%</th>\n",
       "      <td>32113.750000</td>\n",
       "      <td>51650.500000</td>\n",
       "    </tr>\n",
       "    <tr>\n",
       "      <th>max</th>\n",
       "      <td>190169.000000</td>\n",
       "      <td>199891.000000</td>\n",
       "    </tr>\n",
       "  </tbody>\n",
       "</table>\n",
       "</div>"
      ],
      "text/plain": [
       "Channel                         Hotel         Retail\n",
       "Fresh            count     298.000000     142.000000\n",
       "                 mean    13475.560403    8904.323944\n",
       "                 std     13831.687502    8987.714750\n",
       "                 min         3.000000      18.000000\n",
       "                 25%      4070.250000    2347.750000\n",
       "                 50%      9581.500000    5993.500000\n",
       "                 75%     18274.750000   12229.750000\n",
       "                 max    112151.000000   44466.000000\n",
       "Milk             count     298.000000     142.000000\n",
       "                 mean     3451.724832   10716.500000\n",
       "                 std      4352.165571    9679.631351\n",
       "                 min        55.000000     928.000000\n",
       "                 25%      1164.500000    5938.000000\n",
       "                 50%      2157.000000    7812.000000\n",
       "                 75%      4029.500000   12162.750000\n",
       "                 max     43950.000000   73498.000000\n",
       "Grocery          count     298.000000     142.000000\n",
       "                 mean     3962.137584   16322.852113\n",
       "                 std      3545.513391   12267.318094\n",
       "                 min         3.000000    2743.000000\n",
       "                 25%      1703.750000    9245.250000\n",
       "                 50%      2684.000000   12390.000000\n",
       "                 75%      5076.750000   20183.500000\n",
       "                 max     21042.000000   92780.000000\n",
       "Frozen           count     298.000000     142.000000\n",
       "                 mean     3748.251678    1652.612676\n",
       "                 std      5643.912500    1812.803662\n",
       "                 min        25.000000      33.000000\n",
       "                 25%       830.000000     534.250000\n",
       "                 50%      2057.500000    1081.000000\n",
       "                 75%      4558.750000    2146.750000\n",
       "                 max     60869.000000   11559.000000\n",
       "Detergents_Paper count     298.000000     142.000000\n",
       "                 mean      790.560403    7269.507042\n",
       "                 std      1104.093673    6291.089697\n",
       "                 min         3.000000     332.000000\n",
       "                 25%       183.250000    3683.500000\n",
       "                 50%       385.500000    5614.500000\n",
       "                 75%       899.500000    8662.500000\n",
       "                 max      6907.000000   40827.000000\n",
       "Delicatessen     count     298.000000     142.000000\n",
       "                 mean     1415.956376    1753.436620\n",
       "                 std      3147.426922    1953.797047\n",
       "                 min         3.000000       3.000000\n",
       "                 25%       379.000000     566.750000\n",
       "                 50%       821.000000    1350.000000\n",
       "                 75%      1548.000000    2156.000000\n",
       "                 max     47943.000000   16523.000000\n",
       "Total_Spending   count     298.000000     142.000000\n",
       "                 mean    26844.191275   46619.232394\n",
       "                 std     22164.839073   29346.866491\n",
       "                 min       904.000000   14993.000000\n",
       "                 25%     13859.250000   30147.250000\n",
       "                 50%     21254.500000   37139.000000\n",
       "                 75%     32113.750000   51650.500000\n",
       "                 max    190169.000000  199891.000000"
      ]
     },
     "execution_count": 15,
     "metadata": {},
     "output_type": "execute_result"
    }
   ],
   "source": [
    "df.groupby(\"Channel\").describe().T"
   ]
  },
  {
   "cell_type": "code",
   "execution_count": 16,
   "metadata": {},
   "outputs": [
    {
     "name": "stdout",
     "output_type": "stream",
     "text": [
      "In most cases standard deviation is most in the Retail channel, behaviour differs across channels\n"
     ]
    }
   ],
   "source": [
    "print (\"In most cases standard deviation is most in the Retail channel, behaviour differs across channels\")"
   ]
  },
  {
   "cell_type": "markdown",
   "metadata": {},
   "source": [
    "## 1.3 On the basis of descriptive measure of variability, which item shows the most inconsistent behavior? Which items show the least inconsistent behaviour?\n",
    "\n"
   ]
  },
  {
   "cell_type": "code",
   "execution_count": 17,
   "metadata": {},
   "outputs": [
    {
     "data": {
      "text/html": [
       "<div>\n",
       "<style scoped>\n",
       "    .dataframe tbody tr th:only-of-type {\n",
       "        vertical-align: middle;\n",
       "    }\n",
       "\n",
       "    .dataframe tbody tr th {\n",
       "        vertical-align: top;\n",
       "    }\n",
       "\n",
       "    .dataframe thead th {\n",
       "        text-align: right;\n",
       "    }\n",
       "</style>\n",
       "<table border=\"1\" class=\"dataframe\">\n",
       "  <thead>\n",
       "    <tr style=\"text-align: right;\">\n",
       "      <th></th>\n",
       "      <th>Fresh</th>\n",
       "      <th>Milk</th>\n",
       "      <th>Grocery</th>\n",
       "      <th>Frozen</th>\n",
       "      <th>Detergents_Paper</th>\n",
       "      <th>Delicatessen</th>\n",
       "      <th>Total_Spending</th>\n",
       "    </tr>\n",
       "  </thead>\n",
       "  <tbody>\n",
       "    <tr>\n",
       "      <th>count</th>\n",
       "      <td>440.000000</td>\n",
       "      <td>440.000000</td>\n",
       "      <td>440.000000</td>\n",
       "      <td>440.000000</td>\n",
       "      <td>440.000000</td>\n",
       "      <td>440.000000</td>\n",
       "      <td>440.000000</td>\n",
       "    </tr>\n",
       "    <tr>\n",
       "      <th>mean</th>\n",
       "      <td>12000.297727</td>\n",
       "      <td>5796.265909</td>\n",
       "      <td>7951.277273</td>\n",
       "      <td>3071.931818</td>\n",
       "      <td>2881.493182</td>\n",
       "      <td>1524.870455</td>\n",
       "      <td>33226.136364</td>\n",
       "    </tr>\n",
       "    <tr>\n",
       "      <th>std</th>\n",
       "      <td>12647.328865</td>\n",
       "      <td>7380.377175</td>\n",
       "      <td>9503.162829</td>\n",
       "      <td>4854.673333</td>\n",
       "      <td>4767.854448</td>\n",
       "      <td>2820.105937</td>\n",
       "      <td>26356.301730</td>\n",
       "    </tr>\n",
       "    <tr>\n",
       "      <th>min</th>\n",
       "      <td>3.000000</td>\n",
       "      <td>55.000000</td>\n",
       "      <td>3.000000</td>\n",
       "      <td>25.000000</td>\n",
       "      <td>3.000000</td>\n",
       "      <td>3.000000</td>\n",
       "      <td>904.000000</td>\n",
       "    </tr>\n",
       "    <tr>\n",
       "      <th>25%</th>\n",
       "      <td>3127.750000</td>\n",
       "      <td>1533.000000</td>\n",
       "      <td>2153.000000</td>\n",
       "      <td>742.250000</td>\n",
       "      <td>256.750000</td>\n",
       "      <td>408.250000</td>\n",
       "      <td>17448.750000</td>\n",
       "    </tr>\n",
       "    <tr>\n",
       "      <th>50%</th>\n",
       "      <td>8504.000000</td>\n",
       "      <td>3627.000000</td>\n",
       "      <td>4755.500000</td>\n",
       "      <td>1526.000000</td>\n",
       "      <td>816.500000</td>\n",
       "      <td>965.500000</td>\n",
       "      <td>27492.000000</td>\n",
       "    </tr>\n",
       "    <tr>\n",
       "      <th>75%</th>\n",
       "      <td>16933.750000</td>\n",
       "      <td>7190.250000</td>\n",
       "      <td>10655.750000</td>\n",
       "      <td>3554.250000</td>\n",
       "      <td>3922.000000</td>\n",
       "      <td>1820.250000</td>\n",
       "      <td>41307.500000</td>\n",
       "    </tr>\n",
       "    <tr>\n",
       "      <th>max</th>\n",
       "      <td>112151.000000</td>\n",
       "      <td>73498.000000</td>\n",
       "      <td>92780.000000</td>\n",
       "      <td>60869.000000</td>\n",
       "      <td>40827.000000</td>\n",
       "      <td>47943.000000</td>\n",
       "      <td>199891.000000</td>\n",
       "    </tr>\n",
       "  </tbody>\n",
       "</table>\n",
       "</div>"
      ],
      "text/plain": [
       "               Fresh          Milk       Grocery        Frozen  \\\n",
       "count     440.000000    440.000000    440.000000    440.000000   \n",
       "mean    12000.297727   5796.265909   7951.277273   3071.931818   \n",
       "std     12647.328865   7380.377175   9503.162829   4854.673333   \n",
       "min         3.000000     55.000000      3.000000     25.000000   \n",
       "25%      3127.750000   1533.000000   2153.000000    742.250000   \n",
       "50%      8504.000000   3627.000000   4755.500000   1526.000000   \n",
       "75%     16933.750000   7190.250000  10655.750000   3554.250000   \n",
       "max    112151.000000  73498.000000  92780.000000  60869.000000   \n",
       "\n",
       "       Detergents_Paper  Delicatessen  Total_Spending  \n",
       "count        440.000000    440.000000      440.000000  \n",
       "mean        2881.493182   1524.870455    33226.136364  \n",
       "std         4767.854448   2820.105937    26356.301730  \n",
       "min            3.000000      3.000000      904.000000  \n",
       "25%          256.750000    408.250000    17448.750000  \n",
       "50%          816.500000    965.500000    27492.000000  \n",
       "75%         3922.000000   1820.250000    41307.500000  \n",
       "max        40827.000000  47943.000000   199891.000000  "
      ]
     },
     "execution_count": 17,
     "metadata": {},
     "output_type": "execute_result"
    }
   ],
   "source": [
    "df.describe()"
   ]
  },
  {
   "cell_type": "code",
   "execution_count": 18,
   "metadata": {},
   "outputs": [
    {
     "name": "stdout",
     "output_type": "stream",
     "text": [
      "In terms of variability Fresh items show most inconsistency, while Delicatessen items show least inconsistency\n"
     ]
    }
   ],
   "source": [
    "print(\"In terms of variability Fresh items show most inconsistency, while Delicatessen items show least inconsistency\")"
   ]
  },
  {
   "cell_type": "markdown",
   "metadata": {},
   "source": [
    "## 1.4 Are there any outliers in the data?"
   ]
  },
  {
   "cell_type": "code",
   "execution_count": 19,
   "metadata": {},
   "outputs": [
    {
     "data": {
      "image/png": "[encoded data removed]",
      "text/plain": [
       "<Figure size 2160x2160 with 1 Axes>"
      ]
     },
     "metadata": {
      "needs_background": "light"
     },
     "output_type": "display_data"
    }
   ],
   "source": [
    "plt.figure(figsize=(30,30))\n",
    "sns.boxplot(data=df, orient=\"h\");"
   ]
  },
  {
   "cell_type": "code",
   "execution_count": 20,
   "metadata": {},
   "outputs": [
    {
     "name": "stdout",
     "output_type": "stream",
     "text": [
      "Yes there are outliers in the data.\n"
     ]
    }
   ],
   "source": [
    "print(\"Yes there are outliers in the data.\")"
   ]
  },
  {
   "cell_type": "markdown",
   "metadata": {},
   "source": [
    "## Problem 2 "
   ]
  },
  {
   "cell_type": "code",
   "execution_count": 26,
   "metadata": {},
   "outputs": [
    {
     "data": {
      "text/html": [
       "<div>\n",
       "<style scoped>\n",
       "    .dataframe tbody tr th:only-of-type {\n",
       "        vertical-align: middle;\n",
       "    }\n",
       "\n",
       "    .dataframe tbody tr th {\n",
       "        vertical-align: top;\n",
       "    }\n",
       "\n",
       "    .dataframe thead th {\n",
       "        text-align: right;\n",
       "    }\n",
       "</style>\n",
       "<table border=\"1\" class=\"dataframe\">\n",
       "  <thead>\n",
       "    <tr style=\"text-align: right;\">\n",
       "      <th></th>\n",
       "      <th>Gender</th>\n",
       "      <th>Age</th>\n",
       "      <th>Class</th>\n",
       "      <th>Major</th>\n",
       "      <th>Grad Intention</th>\n",
       "      <th>GPA</th>\n",
       "      <th>Employment</th>\n",
       "      <th>Salary</th>\n",
       "      <th>Social Networking</th>\n",
       "      <th>Satisfaction</th>\n",
       "      <th>Spending</th>\n",
       "      <th>Computer</th>\n",
       "      <th>Text Messages</th>\n",
       "    </tr>\n",
       "    <tr>\n",
       "      <th>ID</th>\n",
       "      <th></th>\n",
       "      <th></th>\n",
       "      <th></th>\n",
       "      <th></th>\n",
       "      <th></th>\n",
       "      <th></th>\n",
       "      <th></th>\n",
       "      <th></th>\n",
       "      <th></th>\n",
       "      <th></th>\n",
       "      <th></th>\n",
       "      <th></th>\n",
       "      <th></th>\n",
       "    </tr>\n",
       "  </thead>\n",
       "  <tbody>\n",
       "    <tr>\n",
       "      <th>1</th>\n",
       "      <td>Female</td>\n",
       "      <td>20</td>\n",
       "      <td>Junior</td>\n",
       "      <td>Other</td>\n",
       "      <td>Yes</td>\n",
       "      <td>2.9</td>\n",
       "      <td>Full-Time</td>\n",
       "      <td>50.0</td>\n",
       "      <td>1</td>\n",
       "      <td>3</td>\n",
       "      <td>350</td>\n",
       "      <td>Laptop</td>\n",
       "      <td>200</td>\n",
       "    </tr>\n",
       "    <tr>\n",
       "      <th>2</th>\n",
       "      <td>Male</td>\n",
       "      <td>23</td>\n",
       "      <td>Senior</td>\n",
       "      <td>Management</td>\n",
       "      <td>Yes</td>\n",
       "      <td>3.6</td>\n",
       "      <td>Part-Time</td>\n",
       "      <td>25.0</td>\n",
       "      <td>1</td>\n",
       "      <td>4</td>\n",
       "      <td>360</td>\n",
       "      <td>Laptop</td>\n",
       "      <td>50</td>\n",
       "    </tr>\n",
       "    <tr>\n",
       "      <th>3</th>\n",
       "      <td>Male</td>\n",
       "      <td>21</td>\n",
       "      <td>Junior</td>\n",
       "      <td>Other</td>\n",
       "      <td>Yes</td>\n",
       "      <td>2.5</td>\n",
       "      <td>Part-Time</td>\n",
       "      <td>45.0</td>\n",
       "      <td>2</td>\n",
       "      <td>4</td>\n",
       "      <td>600</td>\n",
       "      <td>Laptop</td>\n",
       "      <td>200</td>\n",
       "    </tr>\n",
       "    <tr>\n",
       "      <th>4</th>\n",
       "      <td>Male</td>\n",
       "      <td>21</td>\n",
       "      <td>Junior</td>\n",
       "      <td>CIS</td>\n",
       "      <td>Yes</td>\n",
       "      <td>2.5</td>\n",
       "      <td>Full-Time</td>\n",
       "      <td>40.0</td>\n",
       "      <td>4</td>\n",
       "      <td>6</td>\n",
       "      <td>600</td>\n",
       "      <td>Laptop</td>\n",
       "      <td>250</td>\n",
       "    </tr>\n",
       "    <tr>\n",
       "      <th>5</th>\n",
       "      <td>Male</td>\n",
       "      <td>23</td>\n",
       "      <td>Senior</td>\n",
       "      <td>Other</td>\n",
       "      <td>Undecided</td>\n",
       "      <td>2.8</td>\n",
       "      <td>Unemployed</td>\n",
       "      <td>40.0</td>\n",
       "      <td>2</td>\n",
       "      <td>4</td>\n",
       "      <td>500</td>\n",
       "      <td>Laptop</td>\n",
       "      <td>100</td>\n",
       "    </tr>\n",
       "  </tbody>\n",
       "</table>\n",
       "</div>"
      ],
      "text/plain": [
       "    Gender  Age   Class       Major Grad Intention  GPA  Employment  Salary  \\\n",
       "ID                                                                            \n",
       "1   Female   20  Junior       Other            Yes  2.9   Full-Time    50.0   \n",
       "2     Male   23  Senior  Management            Yes  3.6   Part-Time    25.0   \n",
       "3     Male   21  Junior       Other            Yes  2.5   Part-Time    45.0   \n",
       "4     Male   21  Junior         CIS            Yes  2.5   Full-Time    40.0   \n",
       "5     Male   23  Senior       Other      Undecided  2.8  Unemployed    40.0   \n",
       "\n",
       "    Social Networking  Satisfaction  Spending Computer  Text Messages  \n",
       "ID                                                                     \n",
       "1                   1             3       350   Laptop            200  \n",
       "2                   1             4       360   Laptop             50  \n",
       "3                   2             4       600   Laptop            200  \n",
       "4                   4             6       600   Laptop            250  \n",
       "5                   2             4       500   Laptop            100  "
      ]
     },
     "execution_count": 26,
     "metadata": {},
     "output_type": "execute_result"
    }
   ],
   "source": [
    "df2= pd.read_csv(\"Survey-1.csv\",index_col=0)\n",
    "df2.head()"
   ]
  },
  {
   "cell_type": "markdown",
   "metadata": {},
   "source": [
    "## 2.1 For this data, construct the following contingency tables (Keep Gender as row variable)\n",
    "### 2.1.1 Gender and Major"
   ]
  },
  {
   "cell_type": "code",
   "execution_count": 35,
   "metadata": {},
   "outputs": [
    {
     "data": {
      "text/html": [
       "<div>\n",
       "<style scoped>\n",
       "    .dataframe tbody tr th:only-of-type {\n",
       "        vertical-align: middle;\n",
       "    }\n",
       "\n",
       "    .dataframe tbody tr th {\n",
       "        vertical-align: top;\n",
       "    }\n",
       "\n",
       "    .dataframe thead th {\n",
       "        text-align: right;\n",
       "    }\n",
       "</style>\n",
       "<table border=\"1\" class=\"dataframe\">\n",
       "  <thead>\n",
       "    <tr style=\"text-align: right;\">\n",
       "      <th>Major</th>\n",
       "      <th>Accounting</th>\n",
       "      <th>CIS</th>\n",
       "      <th>Economics/Finance</th>\n",
       "      <th>International Business</th>\n",
       "      <th>Management</th>\n",
       "      <th>Other</th>\n",
       "      <th>Retailing/Marketing</th>\n",
       "      <th>Undecided</th>\n",
       "    </tr>\n",
       "    <tr>\n",
       "      <th>Gender</th>\n",
       "      <th></th>\n",
       "      <th></th>\n",
       "      <th></th>\n",
       "      <th></th>\n",
       "      <th></th>\n",
       "      <th></th>\n",
       "      <th></th>\n",
       "      <th></th>\n",
       "    </tr>\n",
       "  </thead>\n",
       "  <tbody>\n",
       "    <tr>\n",
       "      <th>Female</th>\n",
       "      <td>3</td>\n",
       "      <td>3</td>\n",
       "      <td>7</td>\n",
       "      <td>4</td>\n",
       "      <td>4</td>\n",
       "      <td>3</td>\n",
       "      <td>9</td>\n",
       "      <td>0</td>\n",
       "    </tr>\n",
       "    <tr>\n",
       "      <th>Male</th>\n",
       "      <td>4</td>\n",
       "      <td>1</td>\n",
       "      <td>4</td>\n",
       "      <td>2</td>\n",
       "      <td>6</td>\n",
       "      <td>4</td>\n",
       "      <td>5</td>\n",
       "      <td>3</td>\n",
       "    </tr>\n",
       "  </tbody>\n",
       "</table>\n",
       "</div>"
      ],
      "text/plain": [
       "Major   Accounting  CIS  Economics/Finance  International Business  \\\n",
       "Gender                                                               \n",
       "Female           3    3                  7                       4   \n",
       "Male             4    1                  4                       2   \n",
       "\n",
       "Major   Management  Other  Retailing/Marketing  Undecided  \n",
       "Gender                                                     \n",
       "Female           4      3                    9          0  \n",
       "Male             6      4                    5          3  "
      ]
     },
     "execution_count": 35,
     "metadata": {},
     "output_type": "execute_result"
    }
   ],
   "source": [
    "pd.crosstab(df2[\"Gender\"],df2[\"Major\"])"
   ]
  },
  {
   "cell_type": "markdown",
   "metadata": {},
   "source": [
    "### 2.1.2 Gender and Grad Intention"
   ]
  },
  {
   "cell_type": "code",
   "execution_count": 36,
   "metadata": {},
   "outputs": [
    {
     "data": {
      "text/html": [
       "<div>\n",
       "<style scoped>\n",
       "    .dataframe tbody tr th:only-of-type {\n",
       "        vertical-align: middle;\n",
       "    }\n",
       "\n",
       "    .dataframe tbody tr th {\n",
       "        vertical-align: top;\n",
       "    }\n",
       "\n",
       "    .dataframe thead th {\n",
       "        text-align: right;\n",
       "    }\n",
       "</style>\n",
       "<table border=\"1\" class=\"dataframe\">\n",
       "  <thead>\n",
       "    <tr style=\"text-align: right;\">\n",
       "      <th>Grad Intention</th>\n",
       "      <th>No</th>\n",
       "      <th>Undecided</th>\n",
       "      <th>Yes</th>\n",
       "    </tr>\n",
       "    <tr>\n",
       "      <th>Gender</th>\n",
       "      <th></th>\n",
       "      <th></th>\n",
       "      <th></th>\n",
       "    </tr>\n",
       "  </thead>\n",
       "  <tbody>\n",
       "    <tr>\n",
       "      <th>Female</th>\n",
       "      <td>9</td>\n",
       "      <td>13</td>\n",
       "      <td>11</td>\n",
       "    </tr>\n",
       "    <tr>\n",
       "      <th>Male</th>\n",
       "      <td>3</td>\n",
       "      <td>9</td>\n",
       "      <td>17</td>\n",
       "    </tr>\n",
       "  </tbody>\n",
       "</table>\n",
       "</div>"
      ],
      "text/plain": [
       "Grad Intention  No  Undecided  Yes\n",
       "Gender                            \n",
       "Female           9         13   11\n",
       "Male             3          9   17"
      ]
     },
     "execution_count": 36,
     "metadata": {},
     "output_type": "execute_result"
    }
   ],
   "source": [
    "pd.crosstab(df2[\"Gender\"],df2[\"Grad Intention\"])"
   ]
  },
  {
   "cell_type": "markdown",
   "metadata": {},
   "source": [
    "### 2.1.3 Gender and Employment "
   ]
  },
  {
   "cell_type": "code",
   "execution_count": 38,
   "metadata": {},
   "outputs": [
    {
     "data": {
      "text/html": [
       "<div>\n",
       "<style scoped>\n",
       "    .dataframe tbody tr th:only-of-type {\n",
       "        vertical-align: middle;\n",
       "    }\n",
       "\n",
       "    .dataframe tbody tr th {\n",
       "        vertical-align: top;\n",
       "    }\n",
       "\n",
       "    .dataframe thead th {\n",
       "        text-align: right;\n",
       "    }\n",
       "</style>\n",
       "<table border=\"1\" class=\"dataframe\">\n",
       "  <thead>\n",
       "    <tr style=\"text-align: right;\">\n",
       "      <th>Employment</th>\n",
       "      <th>Full-Time</th>\n",
       "      <th>Part-Time</th>\n",
       "      <th>Unemployed</th>\n",
       "    </tr>\n",
       "    <tr>\n",
       "      <th>Gender</th>\n",
       "      <th></th>\n",
       "      <th></th>\n",
       "      <th></th>\n",
       "    </tr>\n",
       "  </thead>\n",
       "  <tbody>\n",
       "    <tr>\n",
       "      <th>Female</th>\n",
       "      <td>3</td>\n",
       "      <td>24</td>\n",
       "      <td>6</td>\n",
       "    </tr>\n",
       "    <tr>\n",
       "      <th>Male</th>\n",
       "      <td>7</td>\n",
       "      <td>19</td>\n",
       "      <td>3</td>\n",
       "    </tr>\n",
       "  </tbody>\n",
       "</table>\n",
       "</div>"
      ],
      "text/plain": [
       "Employment  Full-Time  Part-Time  Unemployed\n",
       "Gender                                      \n",
       "Female              3         24           6\n",
       "Male                7         19           3"
      ]
     },
     "execution_count": 38,
     "metadata": {},
     "output_type": "execute_result"
    }
   ],
   "source": [
    "pd.crosstab(df2[\"Gender\"],df2[\"Employment\"])"
   ]
  },
  {
   "cell_type": "markdown",
   "metadata": {},
   "source": [
    "### 2.1.4 Gender and Computer"
   ]
  },
  {
   "cell_type": "code",
   "execution_count": 39,
   "metadata": {},
   "outputs": [
    {
     "data": {
      "text/html": [
       "<div>\n",
       "<style scoped>\n",
       "    .dataframe tbody tr th:only-of-type {\n",
       "        vertical-align: middle;\n",
       "    }\n",
       "\n",
       "    .dataframe tbody tr th {\n",
       "        vertical-align: top;\n",
       "    }\n",
       "\n",
       "    .dataframe thead th {\n",
       "        text-align: right;\n",
       "    }\n",
       "</style>\n",
       "<table border=\"1\" class=\"dataframe\">\n",
       "  <thead>\n",
       "    <tr style=\"text-align: right;\">\n",
       "      <th>Computer</th>\n",
       "      <th>Desktop</th>\n",
       "      <th>Laptop</th>\n",
       "      <th>Tablet</th>\n",
       "    </tr>\n",
       "    <tr>\n",
       "      <th>Gender</th>\n",
       "      <th></th>\n",
       "      <th></th>\n",
       "      <th></th>\n",
       "    </tr>\n",
       "  </thead>\n",
       "  <tbody>\n",
       "    <tr>\n",
       "      <th>Female</th>\n",
       "      <td>2</td>\n",
       "      <td>29</td>\n",
       "      <td>2</td>\n",
       "    </tr>\n",
       "    <tr>\n",
       "      <th>Male</th>\n",
       "      <td>3</td>\n",
       "      <td>26</td>\n",
       "      <td>0</td>\n",
       "    </tr>\n",
       "  </tbody>\n",
       "</table>\n",
       "</div>"
      ],
      "text/plain": [
       "Computer  Desktop  Laptop  Tablet\n",
       "Gender                           \n",
       "Female          2      29       2\n",
       "Male            3      26       0"
      ]
     },
     "execution_count": 39,
     "metadata": {},
     "output_type": "execute_result"
    }
   ],
   "source": [
    "pd.crosstab(df2[\"Gender\"],df2[\"Computer\"])"
   ]
  },
  {
   "cell_type": "markdown",
   "metadata": {},
   "source": [
    "## 2.2 Assume that the sample is representative of the population of CMSU. Based on the data, answer the following question:\n",
    "### 2.2.1 What is the probability that a randomly selected CMSU student will be male?"
   ]
  },
  {
   "cell_type": "code",
   "execution_count": 45,
   "metadata": {},
   "outputs": [
    {
     "data": {
      "text/plain": [
       "Female    33\n",
       "Male      29\n",
       "Name: Gender, dtype: int64"
      ]
     },
     "execution_count": 45,
     "metadata": {},
     "output_type": "execute_result"
    }
   ],
   "source": [
    " df2[\"Gender\"].value_counts()\n"
   ]
  },
  {
   "cell_type": "code",
   "execution_count": 33,
   "metadata": {},
   "outputs": [
    {
     "name": "stdout",
     "output_type": "stream",
     "text": [
      "The probability that a randomly selected CMSU student will be male is 0.46774193548387094\n"
     ]
    }
   ],
   "source": [
    "m= 29/(29+33)\n",
    "print(\"The probability that a randomly selected CMSU student will be male is {}\".format(m))"
   ]
  },
  {
   "cell_type": "markdown",
   "metadata": {},
   "source": [
    "### 2.2.2 What is the probability that a randomly selected CMSU student will be female?"
   ]
  },
  {
   "cell_type": "code",
   "execution_count": 32,
   "metadata": {},
   "outputs": [
    {
     "name": "stdout",
     "output_type": "stream",
     "text": [
      "The probability that a randomly selected CMSU student will be female is 0.532258064516129\n"
     ]
    }
   ],
   "source": [
    "f= 33/(29+33)\n",
    "print(\"The probability that a randomly selected CMSU student will be female is {}\".format(f))"
   ]
  },
  {
   "cell_type": "markdown",
   "metadata": {},
   "source": [
    "## 2.3 Assume that the sample is representative of the population of CMSU. Based on the data, answer the following question:\n",
    "\n",
    "### 2.3.1 Find the conditional probability of different majors among the male students in CMSU."
   ]
  },
  {
   "cell_type": "code",
   "execution_count": 48,
   "metadata": {},
   "outputs": [
    {
     "name": "stdout",
     "output_type": "stream",
     "text": [
      "The probability that a randomly selected CMSU student will be male majoring in accounting is 0.13793103448275862\n"
     ]
    }
   ],
   "source": [
    "# Conditional Probability of accounting \n",
    "AM= 4/62\n",
    "CAM= AM/m\n",
    "print(\"The probability that a randomly selected CMSU student will be male majoring in accounting is {}\".format(CAM))"
   ]
  },
  {
   "cell_type": "code",
   "execution_count": 49,
   "metadata": {},
   "outputs": [
    {
     "name": "stdout",
     "output_type": "stream",
     "text": [
      "The probability that a randomly selected CMSU student will be male majoring in CIS is 0.034482758620689655\n"
     ]
    }
   ],
   "source": [
    "#Condtional Probability of CIS\n",
    "CM= 1/62\n",
    "CCM= CM/m\n",
    "print(\"The probability that a randomly selected CMSU student will be male majoring in CIS is {}\".format(CCM))"
   ]
  },
  {
   "cell_type": "code",
   "execution_count": 50,
   "metadata": {},
   "outputs": [
    {
     "name": "stdout",
     "output_type": "stream",
     "text": [
      "The probability that a randomly selected CMSU student will be male majoring in Economics/ Finance is 0.13793103448275862\n"
     ]
    }
   ],
   "source": [
    "# Conditonal Probability of Economics/ Finance\n",
    "EM= 4/62\n",
    "CEM= EM/m\n",
    "print(\"The probability that a randomly selected CMSU student will be male majoring in Economics/ Finance is {}\".format(CEM))"
   ]
  },
  {
   "cell_type": "code",
   "execution_count": 51,
   "metadata": {},
   "outputs": [
    {
     "name": "stdout",
     "output_type": "stream",
     "text": [
      "The probability that a randomly selected CMSU student will be male majoring in International Business is 0.06896551724137931\n"
     ]
    }
   ],
   "source": [
    "# Conditional Probability of International Business \n",
    "BM= 2/62\n",
    "CBM= BM/m\n",
    "print(\"The probability that a randomly selected CMSU student will be male majoring in International Business is {}\".format(CBM))"
   ]
  },
  {
   "cell_type": "code",
   "execution_count": 52,
   "metadata": {},
   "outputs": [
    {
     "name": "stdout",
     "output_type": "stream",
     "text": [
      "The probability that a randomly selected CMSU student will be male majoring in Management is 0.20689655172413793\n"
     ]
    }
   ],
   "source": [
    "# Conditional Probability of Management \n",
    "MM= 6/62\n",
    "CMM= MM/m\n",
    "print(\"The probability that a randomly selected CMSU student will be male majoring in Management is {}\".format(CMM))"
   ]
  },
  {
   "cell_type": "code",
   "execution_count": 53,
   "metadata": {},
   "outputs": [
    {
     "name": "stdout",
     "output_type": "stream",
     "text": [
      "The probability that a randomly selected CMSU student will be male majoring in other majors is 0.13793103448275862\n"
     ]
    }
   ],
   "source": [
    "# Conditional Probability of Other \n",
    "OM= 4/62\n",
    "COM= OM/m\n",
    "print(\"The probability that a randomly selected CMSU student will be male majoring in other majors is {}\".format(COM))"
   ]
  },
  {
   "cell_type": "code",
   "execution_count": 54,
   "metadata": {
    "scrolled": true
   },
   "outputs": [
    {
     "name": "stdout",
     "output_type": "stream",
     "text": [
      "The probability that a randomly selected CMSU student will be male majoring in Retailing/Marketing is 0.1724137931034483\n"
     ]
    }
   ],
   "source": [
    "# Conditonal Probability of Retailing/ Marketing \n",
    "RM= 5/62\n",
    "CRM= RM/m\n",
    "print(\"The probability that a randomly selected CMSU student will be male majoring in Retailing/Marketing is {}\".format(CRM))"
   ]
  },
  {
   "cell_type": "code",
   "execution_count": 55,
   "metadata": {},
   "outputs": [
    {
     "name": "stdout",
     "output_type": "stream",
     "text": [
      "The probability that a randomly selected CMSU student will be male with an undecided major is 0.10344827586206896\n"
     ]
    }
   ],
   "source": [
    "# Conditional Probability of undecided \n",
    "UM= 3/62\n",
    "CUM= UM/m\n",
    "print(\"The probability that a randomly selected CMSU student will be male with an undecided major is {}\".format(CUM))"
   ]
  },
  {
   "cell_type": "markdown",
   "metadata": {},
   "source": [
    "## 2.3.2 Find the conditional probability of different majors among the female students of CMSU."
   ]
  },
  {
   "cell_type": "code",
   "execution_count": 56,
   "metadata": {},
   "outputs": [
    {
     "name": "stdout",
     "output_type": "stream",
     "text": [
      "The probability that a randomly selected CMSU student will be female majoring in accounting is 0.09090909090909091\n"
     ]
    }
   ],
   "source": [
    "# Conditional Probability of accounting \n",
    "AF= 3/62\n",
    "CAF= AF/f\n",
    "print(\"The probability that a randomly selected CMSU student will be female majoring in accounting is {}\".format(CAF))"
   ]
  },
  {
   "cell_type": "code",
   "execution_count": 57,
   "metadata": {
    "scrolled": true
   },
   "outputs": [
    {
     "name": "stdout",
     "output_type": "stream",
     "text": [
      "The probability that a randomly selected CMSU student will be female majoring in CIS is 0.09090909090909091\n"
     ]
    }
   ],
   "source": [
    "# Conditional Probability of CIS \n",
    "CF= 3/62\n",
    "CCF= CF/f\n",
    "print(\"The probability that a randomly selected CMSU student will be female majoring in CIS is {}\".format(CCF))"
   ]
  },
  {
   "cell_type": "code",
   "execution_count": 58,
   "metadata": {},
   "outputs": [
    {
     "name": "stdout",
     "output_type": "stream",
     "text": [
      "The probability that a randomly selected CMSU student will be female majoring in Economics/Finance is 0.21212121212121213\n"
     ]
    }
   ],
   "source": [
    "# Conditional Probability of Economics/Finance  \n",
    "EF= 7/62\n",
    "CEF= EF/f\n",
    "print(\"The probability that a randomly selected CMSU student will be female majoring in Economics/Finance is {}\".format(CEF))"
   ]
  },
  {
   "cell_type": "code",
   "execution_count": 59,
   "metadata": {},
   "outputs": [
    {
     "name": "stdout",
     "output_type": "stream",
     "text": [
      "The probability that a randomly selected CMSU student will be female majoring in International Business is 0.12121212121212122\n"
     ]
    }
   ],
   "source": [
    "# Conditional Probability of International Business \n",
    "BF= 4/62\n",
    "CBF= BF/f\n",
    "print(\"The probability that a randomly selected CMSU student will be female majoring in International Business is {}\".format(CBF))"
   ]
  },
  {
   "cell_type": "code",
   "execution_count": 60,
   "metadata": {},
   "outputs": [
    {
     "name": "stdout",
     "output_type": "stream",
     "text": [
      "The probability that a randomly selected CMSU student will be female majoring in Management is 0.12121212121212122\n"
     ]
    }
   ],
   "source": [
    "# Conditional Probability of Management\n",
    "MF= 4/62\n",
    "CMF= MF/f\n",
    "print(\"The probability that a randomly selected CMSU student will be female majoring in Management is {}\".format(CMF))"
   ]
  },
  {
   "cell_type": "code",
   "execution_count": 61,
   "metadata": {},
   "outputs": [
    {
     "name": "stdout",
     "output_type": "stream",
     "text": [
      "The probability that a randomly selected CMSU student will be female majoring in other majors is 0.09090909090909091\n"
     ]
    }
   ],
   "source": [
    "# Conditional Probability of other majors\n",
    "OF= 3/62\n",
    "COF= OF/f\n",
    "print(\"The probability that a randomly selected CMSU student will be female majoring in other majors is {}\".format(COF))"
   ]
  },
  {
   "cell_type": "code",
   "execution_count": 62,
   "metadata": {},
   "outputs": [
    {
     "name": "stdout",
     "output_type": "stream",
     "text": [
      "The probability that a randomly selected CMSU student will be female majoring in Retailing/Marketing is 0.27272727272727276\n"
     ]
    }
   ],
   "source": [
    "# Conditional Probability of Retailing/Marketing \n",
    "RF= 9/62\n",
    "CRF= RF/f\n",
    "print(\"The probability that a randomly selected CMSU student will be female majoring in Retailing/Marketing is {}\".format(CRF))"
   ]
  },
  {
   "cell_type": "code",
   "execution_count": 63,
   "metadata": {},
   "outputs": [
    {
     "name": "stdout",
     "output_type": "stream",
     "text": [
      "The probability that a randomly selected CMSU student will be a female with an undecided major is 0.0\n"
     ]
    }
   ],
   "source": [
    "# Conditional Probability of an undecided major \n",
    "UF= 0/62\n",
    "CUF= UF/f\n",
    "print(\"The probability that a randomly selected CMSU student will be a female with an undecided major is {}\".format(CUF))"
   ]
  },
  {
   "cell_type": "markdown",
   "metadata": {},
   "source": [
    "## 2.4 Assume that the sample is a representative of the population of CMSU. Based on the data, answer the following question:\n",
    "\n",
    "### 2.4.1 Find the probability That a randomly chosen student is a male and intends to graduate.\n"
   ]
  },
  {
   "cell_type": "code",
   "execution_count": 79,
   "metadata": {},
   "outputs": [
    {
     "name": "stdout",
     "output_type": "stream",
     "text": [
      "The probability that a randomly chosen student is male and intends to graduate is 0.27419354838709675\n"
     ]
    }
   ],
   "source": [
    "MG= 17/(29+33)\n",
    "print(\"The probability that a randomly chosen student is male and intends to graduate is {}\".format(MG))"
   ]
  },
  {
   "cell_type": "markdown",
   "metadata": {},
   "source": [
    "### 2.4.2 Find the probability that a randomly selected student is a female and does NOT have a laptop. "
   ]
  },
  {
   "cell_type": "code",
   "execution_count": 81,
   "metadata": {},
   "outputs": [
    {
     "name": "stdout",
     "output_type": "stream",
     "text": [
      "The probability that a randomly selected student is a female and does not have a laptop is 0.06451612903225806.\n"
     ]
    }
   ],
   "source": [
    "FL= 4/(29+33)\n",
    "print(\"The probability that a randomly selected student is a female and does not have a laptop is {}.\".format(FL))"
   ]
  },
  {
   "cell_type": "markdown",
   "metadata": {},
   "source": [
    "## 2.5 Assume that the sample is representative of the population of CMSU. Based on the data, answer the following question:\n",
    "### 2.5.1 Find the probability that a randomly chosen student is either a male or has full-time employment?"
   ]
  },
  {
   "cell_type": "code",
   "execution_count": 82,
   "metadata": {},
   "outputs": [
    {
     "data": {
      "text/plain": [
       "Part-Time     43\n",
       "Full-Time     10\n",
       "Unemployed     9\n",
       "Name: Employment, dtype: int64"
      ]
     },
     "execution_count": 82,
     "metadata": {},
     "output_type": "execute_result"
    }
   ],
   "source": [
    "df2[\"Employment\"].value_counts()"
   ]
  },
  {
   "cell_type": "code",
   "execution_count": 83,
   "metadata": {},
   "outputs": [
    {
     "name": "stdout",
     "output_type": "stream",
     "text": [
      "The probability that a randomly chosen student is either a male or has full-time employment is 0.6578690127077224\n"
     ]
    }
   ],
   "source": [
    "FT= 10/33\n",
    "MorFT= (m+FT)-(7/(29+33))\n",
    "print(\"The probability that a randomly chosen student is either a male or has full-time employment is {}\".format(MorFT))"
   ]
  },
  {
   "cell_type": "markdown",
   "metadata": {},
   "source": [
    "### 2.5.2. Find the conditional probability that given a female student is randomly chosen, she is majoring in international business or management."
   ]
  },
  {
   "cell_type": "code",
   "execution_count": 86,
   "metadata": {},
   "outputs": [
    {
     "data": {
      "text/plain": [
       "Retailing/Marketing       14\n",
       "Economics/Finance         11\n",
       "Management                10\n",
       "Accounting                 7\n",
       "Other                      7\n",
       "International Business     6\n",
       "CIS                        4\n",
       "Undecided                  3\n",
       "Name: Major, dtype: int64"
      ]
     },
     "execution_count": 86,
     "metadata": {},
     "output_type": "execute_result"
    }
   ],
   "source": [
    "df2[\"Major\"].value_counts()"
   ]
  },
  {
   "cell_type": "code",
   "execution_count": 64,
   "metadata": {},
   "outputs": [
    {
     "name": "stdout",
     "output_type": "stream",
     "text": [
      "The conditional probability that given a female student is randomly chosen, she is majoring in international business or management is 0.45546372819100095\n"
     ]
    }
   ],
   "source": [
    "BorM= CBF+ CMF \n",
    "CF= BorM/ f\n",
    "print(\"The conditional probability that given a female student is randomly chosen, she is majoring in international business or management is {}\".format(CF))\n"
   ]
  },
  {
   "cell_type": "markdown",
   "metadata": {},
   "source": [
    "## 2.6 Construct a contingency table of Gender and Intent to Graduate at 2 levels (Yes/No). The Undecided students are not considered now and the table is a 2x2 table. Do you think the graduate intention and being female are independent events?"
   ]
  },
  {
   "cell_type": "code",
   "execution_count": 90,
   "metadata": {},
   "outputs": [
    {
     "data": {
      "text/html": [
       "<div>\n",
       "<style scoped>\n",
       "    .dataframe tbody tr th:only-of-type {\n",
       "        vertical-align: middle;\n",
       "    }\n",
       "\n",
       "    .dataframe tbody tr th {\n",
       "        vertical-align: top;\n",
       "    }\n",
       "\n",
       "    .dataframe thead th {\n",
       "        text-align: right;\n",
       "    }\n",
       "</style>\n",
       "<table border=\"1\" class=\"dataframe\">\n",
       "  <thead>\n",
       "    <tr style=\"text-align: right;\">\n",
       "      <th>Grad Intention</th>\n",
       "      <th>No</th>\n",
       "      <th>Yes</th>\n",
       "    </tr>\n",
       "    <tr>\n",
       "      <th>Gender</th>\n",
       "      <th></th>\n",
       "      <th></th>\n",
       "    </tr>\n",
       "  </thead>\n",
       "  <tbody>\n",
       "    <tr>\n",
       "      <th>Female</th>\n",
       "      <td>9</td>\n",
       "      <td>11</td>\n",
       "    </tr>\n",
       "    <tr>\n",
       "      <th>Male</th>\n",
       "      <td>3</td>\n",
       "      <td>17</td>\n",
       "    </tr>\n",
       "  </tbody>\n",
       "</table>\n",
       "</div>"
      ],
      "text/plain": [
       "Grad Intention  No  Yes\n",
       "Gender                 \n",
       "Female           9   11\n",
       "Male             3   17"
      ]
     },
     "execution_count": 90,
     "metadata": {},
     "output_type": "execute_result"
    }
   ],
   "source": [
    "pd.crosstab(df2[\"Gender\"],df2[\"Grad Intention\"]).drop(\"Undecided\",axis=1)"
   ]
  },
  {
   "cell_type": "markdown",
   "metadata": {},
   "source": [
    "## 2.7 Note that there are four numerical (continuous) variables in the data set, GPA, Salary, Spending, and Text Messages.\n",
    "\n",
    "### 2.7.1  If a student is chosen randomly, what is the probability that his/her GPA is less than 3?"
   ]
  },
  {
   "cell_type": "code",
   "execution_count": 8,
   "metadata": {},
   "outputs": [
    {
     "data": {
      "text/plain": [
       "False    45\n",
       "True     17\n",
       "Name: GPA, dtype: int64"
      ]
     },
     "execution_count": 8,
     "metadata": {},
     "output_type": "execute_result"
    }
   ],
   "source": [
    "z= df2[\"GPA\"]<3\n",
    "z.value_counts()"
   ]
  },
  {
   "cell_type": "code",
   "execution_count": 11,
   "metadata": {},
   "outputs": [
    {
     "name": "stdout",
     "output_type": "stream",
     "text": [
      "If a student is chosen randomly, the probability that his/her GPA is less than 3 is 0.27419354838709675\n"
     ]
    }
   ],
   "source": [
    "G= 17/(29+33)\n",
    "print (\"If a student is chosen randomly, the probability that his/her GPA is less than 3 is {}\".format(G))"
   ]
  },
  {
   "cell_type": "markdown",
   "metadata": {},
   "source": [
    "### 2.7.2 Find the conditional probability that a randomly selected male earns 50 or more. Find the conditional probability that a randomly selected female earns 50 or more."
   ]
  },
  {
   "cell_type": "code",
   "execution_count": 30,
   "metadata": {},
   "outputs": [
    {
     "data": {
      "text/plain": [
       "ID\n",
       "1      True\n",
       "2     False\n",
       "3     False\n",
       "4     False\n",
       "5     False\n",
       "      ...  \n",
       "58    False\n",
       "59    False\n",
       "60     True\n",
       "61    False\n",
       "62     True\n",
       "Name: Salary, Length: 62, dtype: bool"
      ]
     },
     "execution_count": 30,
     "metadata": {},
     "output_type": "execute_result"
    }
   ],
   "source": [
    "# Probability that a randomly selected male earns 50 or more \n",
    "q=df2[\"Salary\"]>=50\n",
    "q"
   ]
  },
  {
   "cell_type": "code",
   "execution_count": 31,
   "metadata": {},
   "outputs": [
    {
     "data": {
      "text/html": [
       "<div>\n",
       "<style scoped>\n",
       "    .dataframe tbody tr th:only-of-type {\n",
       "        vertical-align: middle;\n",
       "    }\n",
       "\n",
       "    .dataframe tbody tr th {\n",
       "        vertical-align: top;\n",
       "    }\n",
       "\n",
       "    .dataframe thead th {\n",
       "        text-align: right;\n",
       "    }\n",
       "</style>\n",
       "<table border=\"1\" class=\"dataframe\">\n",
       "  <thead>\n",
       "    <tr style=\"text-align: right;\">\n",
       "      <th>Salary</th>\n",
       "      <th>False</th>\n",
       "      <th>True</th>\n",
       "    </tr>\n",
       "    <tr>\n",
       "      <th>Gender</th>\n",
       "      <th></th>\n",
       "      <th></th>\n",
       "    </tr>\n",
       "  </thead>\n",
       "  <tbody>\n",
       "    <tr>\n",
       "      <th>Female</th>\n",
       "      <td>15</td>\n",
       "      <td>18</td>\n",
       "    </tr>\n",
       "    <tr>\n",
       "      <th>Male</th>\n",
       "      <td>15</td>\n",
       "      <td>14</td>\n",
       "    </tr>\n",
       "  </tbody>\n",
       "</table>\n",
       "</div>"
      ],
      "text/plain": [
       "Salary  False  True \n",
       "Gender              \n",
       "Female     15     18\n",
       "Male       15     14"
      ]
     },
     "execution_count": 31,
     "metadata": {},
     "output_type": "execute_result"
    }
   ],
   "source": [
    "pd.crosstab(df2[\"Gender\"],q)"
   ]
  },
  {
   "cell_type": "code",
   "execution_count": 46,
   "metadata": {},
   "outputs": [
    {
     "name": "stdout",
     "output_type": "stream",
     "text": [
      "The conditional probability that a randomly selected male earns 50 or more is 0.4827586206896552\n"
     ]
    }
   ],
   "source": [
    "s= 14/62\n",
    "CPS=s/(29/62)\n",
    "print (\"The conditional probability that a randomly selected male earns 50 or more is {}\".format(CPS))"
   ]
  },
  {
   "cell_type": "code",
   "execution_count": 47,
   "metadata": {},
   "outputs": [
    {
     "name": "stdout",
     "output_type": "stream",
     "text": [
      "The conditional probability that a randomly selected female earns 50 or more is 0.5625\n"
     ]
    }
   ],
   "source": [
    "# Probability that a randomly selected female earns 50 or more \n",
    "r= 18/62\n",
    "CPR= r/(32/62)\n",
    "print (\"The conditional probability that a randomly selected female earns 50 or more is {}\".format(CPR))"
   ]
  },
  {
   "cell_type": "markdown",
   "metadata": {},
   "source": [
    "## 2.8 Note that there are four numerical (continuous) variables in the data set, GPA, Salary, Spending, and Text Messages. For each of them comment whether they follow a normal distribution. Write a note summarizing your conclusions.\n",
    "\n"
   ]
  },
  {
   "cell_type": "code",
   "execution_count": 75,
   "metadata": {},
   "outputs": [
    {
     "data": {
      "image/png": "[encoded data removed]",
      "text/plain": [
       "<Figure size 432x288 with 1 Axes>"
      ]
     },
     "metadata": {
      "needs_background": "light"
     },
     "output_type": "display_data"
    }
   ],
   "source": [
    "\n",
    "sns.distplot(df2[\"GPA\"],label=\"GPA\");\n"
   ]
  },
  {
   "cell_type": "code",
   "execution_count": 77,
   "metadata": {},
   "outputs": [
    {
     "data": {
      "image/png": "[encoded data removed]",
      "text/plain": [
       "<Figure size 432x288 with 1 Axes>"
      ]
     },
     "metadata": {
      "needs_background": "light"
     },
     "output_type": "display_data"
    }
   ],
   "source": [
    "sns.distplot(df2[\"Salary\"],label=\"Salary\");"
   ]
  },
  {
   "cell_type": "code",
   "execution_count": 78,
   "metadata": {},
   "outputs": [
    {
     "data": {
      "image/png": "[encoded data removed]",
      "text/plain": [
       "<Figure size 432x288 with 1 Axes>"
      ]
     },
     "metadata": {
      "needs_background": "light"
     },
     "output_type": "display_data"
    }
   ],
   "source": [
    "sns.distplot(df2[\"Spending\"],label=\"Spending\");"
   ]
  },
  {
   "cell_type": "code",
   "execution_count": 80,
   "metadata": {},
   "outputs": [
    {
     "data": {
      "image/png": "[encoded data removed]",
      "text/plain": [
       "<Figure size 432x288 with 1 Axes>"
      ]
     },
     "metadata": {
      "needs_background": "light"
     },
     "output_type": "display_data"
    }
   ],
   "source": [
    "sns.distplot(df2[\"Text Messages\"],label=\"Text Messages\");"
   ]
  },
  {
   "cell_type": "code",
   "execution_count": 81,
   "metadata": {},
   "outputs": [
    {
     "name": "stdout",
     "output_type": "stream",
     "text": [
      "None of the variables are symmetric, hence we can assume they do not have a normal distribution.\n"
     ]
    }
   ],
   "source": [
    "print(\"None of the variables are symmetric, hence we can assume they do not have a normal distribution.\")"
   ]
  },
  {
   "cell_type": "markdown",
   "metadata": {},
   "source": [
    "## Problem 3 "
   ]
  },
  {
   "cell_type": "code",
   "execution_count": 83,
   "metadata": {},
   "outputs": [
    {
     "data": {
      "text/html": [
       "<div>\n",
       "<style scoped>\n",
       "    .dataframe tbody tr th:only-of-type {\n",
       "        vertical-align: middle;\n",
       "    }\n",
       "\n",
       "    .dataframe tbody tr th {\n",
       "        vertical-align: top;\n",
       "    }\n",
       "\n",
       "    .dataframe thead th {\n",
       "        text-align: right;\n",
       "    }\n",
       "</style>\n",
       "<table border=\"1\" class=\"dataframe\">\n",
       "  <thead>\n",
       "    <tr style=\"text-align: right;\">\n",
       "      <th></th>\n",
       "      <th>A</th>\n",
       "      <th>B</th>\n",
       "    </tr>\n",
       "  </thead>\n",
       "  <tbody>\n",
       "    <tr>\n",
       "      <th>0</th>\n",
       "      <td>0.44</td>\n",
       "      <td>0.14</td>\n",
       "    </tr>\n",
       "    <tr>\n",
       "      <th>1</th>\n",
       "      <td>0.61</td>\n",
       "      <td>0.15</td>\n",
       "    </tr>\n",
       "    <tr>\n",
       "      <th>2</th>\n",
       "      <td>0.47</td>\n",
       "      <td>0.31</td>\n",
       "    </tr>\n",
       "    <tr>\n",
       "      <th>3</th>\n",
       "      <td>0.30</td>\n",
       "      <td>0.16</td>\n",
       "    </tr>\n",
       "    <tr>\n",
       "      <th>4</th>\n",
       "      <td>0.15</td>\n",
       "      <td>0.37</td>\n",
       "    </tr>\n",
       "  </tbody>\n",
       "</table>\n",
       "</div>"
      ],
      "text/plain": [
       "      A     B\n",
       "0  0.44  0.14\n",
       "1  0.61  0.15\n",
       "2  0.47  0.31\n",
       "3  0.30  0.16\n",
       "4  0.15  0.37"
      ]
     },
     "execution_count": 83,
     "metadata": {},
     "output_type": "execute_result"
    }
   ],
   "source": [
    "df3=pd.read_csv(\"A+&+B+shingles.csv\")\n",
    "df3.head()"
   ]
  },
  {
   "cell_type": "markdown",
   "metadata": {},
   "source": [
    "## 3.1 Do you think there is evidence that mean moisture contents in both types of shingles are within the permissible limits? State your conclusions clearly showing all steps."
   ]
  },
  {
   "cell_type": "code",
   "execution_count": 85,
   "metadata": {},
   "outputs": [
    {
     "data": {
      "text/plain": [
       "count    36.000000\n",
       "mean      0.316667\n",
       "std       0.135731\n",
       "min       0.130000\n",
       "25%       0.207500\n",
       "50%       0.290000\n",
       "75%       0.392500\n",
       "max       0.720000\n",
       "Name: A, dtype: float64"
      ]
     },
     "execution_count": 85,
     "metadata": {},
     "output_type": "execute_result"
    }
   ],
   "source": [
    "df3[\"A\"].describe()"
   ]
  },
  {
   "cell_type": "code",
   "execution_count": 90,
   "metadata": {},
   "outputs": [
    {
     "data": {
      "text/plain": [
       "0.9999883268011658"
      ]
     },
     "execution_count": 90,
     "metadata": {},
     "output_type": "execute_result"
    }
   ],
   "source": [
    "# Ho= mean<= 0.35 HA= mean>0.35 \n",
    "\n",
    "tstatistic, p_value= ttest_1samp(df3[\"A\"],0.316667)\n",
    "p_value"
   ]
  },
  {
   "cell_type": "code",
   "execution_count": 91,
   "metadata": {},
   "outputs": [
    {
     "data": {
      "text/plain": [
       "count    31.000000\n",
       "mean      0.273548\n",
       "std       0.137296\n",
       "min       0.100000\n",
       "25%       0.160000\n",
       "50%       0.230000\n",
       "75%       0.400000\n",
       "max       0.580000\n",
       "Name: B, dtype: float64"
      ]
     },
     "execution_count": 91,
     "metadata": {},
     "output_type": "execute_result"
    }
   ],
   "source": [
    "df3[\"B\"].describe()"
   ]
  },
  {
   "cell_type": "code",
   "execution_count": 101,
   "metadata": {},
   "outputs": [
    {
     "data": {
      "text/plain": [
       "0.9999875788408477"
      ]
     },
     "execution_count": 101,
     "metadata": {},
     "output_type": "execute_result"
    }
   ],
   "source": [
    "tstatistic, p_value= ttest_1samp(df3[\"B\"],0.273548,nan_policy=\"omit\")\n",
    "p_value"
   ]
  },
  {
   "cell_type": "code",
   "execution_count": 102,
   "metadata": {},
   "outputs": [
    {
     "name": "stdout",
     "output_type": "stream",
     "text": [
      "Since both p_values are greater than 0.95 i.e. alpha we can accept Ho that the mean is lesser than 0.35 per 100 square feet\n"
     ]
    }
   ],
   "source": [
    "print(\"Since both p_values are greater than 0.95 i.e. alpha we can accept Ho that the mean is lesser than 0.35 per 100 square feet\")"
   ]
  },
  {
   "cell_type": "markdown",
   "metadata": {},
   "source": [
    "## 3.2 Do you think that the population mean for shingles A and B are equal? Form the hypothesis and conduct the test of the hypothesis. What assumption do you need to check before the test for equality of means is performed?\n",
    "\n"
   ]
  },
  {
   "cell_type": "code",
   "execution_count": 104,
   "metadata": {},
   "outputs": [
    {
     "data": {
      "text/plain": [
       "0.2017496571835306"
      ]
     },
     "execution_count": 104,
     "metadata": {},
     "output_type": "execute_result"
    }
   ],
   "source": [
    "# Ho: Mean of A-Mean of B = 0\n",
    "# HA: Mean of A- mean of B is not equal to 0\n",
    "tstatistic, p_value= ttest_ind(df3[\"A\"],df3[\"B\"],nan_policy=\"omit\")\n",
    "p_value\n"
   ]
  },
  {
   "cell_type": "code",
   "execution_count": 105,
   "metadata": {},
   "outputs": [
    {
     "name": "stdout",
     "output_type": "stream",
     "text": [
      "As the p value is less than 0.95 we can assume that the population means are not equal\n"
     ]
    }
   ],
   "source": [
    "print(\"As the p value is less than 0.95 we can assume that the population means are not equal\")"
   ]
  },
  {
   "cell_type": "code",
   "execution_count": null,
   "metadata": {},
   "outputs": [],
   "source": []
  }
 ],
 "metadata": {
  "kernelspec": {
   "display_name": "Python 3",
   "language": "python",
   "name": "python3"
  },
  "language_info": {
   "codemirror_mode": {
    "name": "ipython",
    "version": 3
   },
   "file_extension": ".py",
   "mimetype": "text/x-python",
   "name": "python",
   "nbconvert_exporter": "python",
   "pygments_lexer": "ipython3",
   "version": "3.8.3"
  }
 },
 "nbformat": 4,
 "nbformat_minor": 4
}
